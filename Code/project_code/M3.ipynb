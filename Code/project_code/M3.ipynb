{
 "cells": [
  {
   "cell_type": "markdown",
   "metadata": {},
   "source": [
    "# Performance measurements of Logistic regression and Support Vector Machines"
   ]
  },
  {
   "cell_type": "code",
   "execution_count": 1,
   "metadata": {},
   "outputs": [],
   "source": [
    "\n",
    "import pandas as p\n",
    "import matplotlib.pyplot as plt\n",
    "import seaborn as s\n",
    "import numpy as n"
   ]
  },
  {
   "cell_type": "code",
   "execution_count": 2,
   "metadata": {},
   "outputs": [],
   "source": [
    "import warnings\n",
    "warnings.filterwarnings('ignore')"
   ]
  },
  {
   "cell_type": "code",
   "execution_count": 3,
   "metadata": {},
   "outputs": [],
   "source": [
    "\n",
    "df = p.read_csv(\"train.csv\")"
   ]
  },
  {
   "cell_type": "code",
   "execution_count": 4,
   "metadata": {},
   "outputs": [],
   "source": [
    "df['places'] = df.AREA.map({'Karapakkam':'Karapakkam', 'Anna Nagar':'Anna_Nagar', 'Adyar':'Adyar', 'Velachery':'Velachery',\n",
    "'Chrompet':'Chrompet', 'KK Nagar':'KK_Nagar', 'TNagar':'T_Nagar', 'T Nagar':'T_Nagar', 'Chrompt':'Chrompet',\n",
    "'Chrmpet':'Chrompet', 'Karapakam':'Karapakkam','Ana Nagar':'Anna_Nagar', 'Chormpet':'Chrompet', 'Adyr':'Adyar', 'Velchery':'Velachery','Ann Nagar':'Anna_Nagar',\n",
    "'KKNagar':'KK_Nagar'})"
   ]
  },
  {
   "cell_type": "code",
   "execution_count": 5,
   "metadata": {},
   "outputs": [],
   "source": [
    "del df['AREA']"
   ]
  },
  {
   "cell_type": "code",
   "execution_count": 6,
   "metadata": {},
   "outputs": [],
   "source": [
    " df['class'] = df.QS_OVERALL.map({4.33 :1, 3.765:1, 3.09 :1, 4.01 :1, 3.29 :1, 3.32 :1, 2.67 :0, 3.26 :1, 3.55 :1,\n",
    "       3.16 :1, 3.83 :1, 2.89 :0, 2.26 :0, 3.19 :1, 3.66 :1, 3.57 :1, 4.3  :1, 3.35 :1,\n",
    "       4.76 :1, 3.39 :1, 3.43 :1, 3.73 :1, 3.59 :1, 3.74 :1, 2.29 :0, 3.17 :1, 4.18 :1,\n",
    "       2.755:0, 2.11 :0, 2.605:0, 4.58 :1, 4.2  :1, 3.27 :1, 4.19 :1, 2.98 :0, 3.12 :1,\n",
    "       3.08 :1, 3.85 :1, 3.42 :1, 3.2  :1, 4.   :1, 3.34 :1, 2.825:0, 3.46 :1, 4.07 :1,\n",
    "       3.68 :1, 2.95 :0, 3.505:1, 2.97 :0, 3.63 :1, 3.76 :1, 3.77 :1, 2.78 :0, 3.985:1,\n",
    "       3.04 :1, 2.88 :0, 4.21 :1, 2.42 :0, 3.8  :1, 2.54 :0, 3.84 :1, 2.395:0, 3.14 :1,\n",
    "       2.49 :0, 3.175:1, 2.84 :0, 4.17 :1, 3.13 :1, 3.98 :1, 3.36 :1, 3.735:1, 2.62 :0,\n",
    "       4.61 :1, 2.6  :0, 4.09 :1, 3.18 :1, 3.425:1, 3.71 :1, 3.21 :1, 3.61 :1, 2.9  :0,\n",
    "       3.94 :1, 4.145:1, 4.26 :1, 4.16 :1, 3.5  :1, 3.22 :1, 3.99 :1, 4.12 :1, 2.475:0,\n",
    "       2.28 :0, 2.725:0, 4.03 :1, 3.07 :1, 2.81 :0, 3.45 :1, 3.9  :1, 3.87 :1, 3.1  :1,\n",
    "       2.93 :0, 3.05 :1, 3.54 :1, 2.63 :0, 3.11 :1, 3.89 :1, 3.33 :1, 3.96 :1, 3.56 :1,\n",
    "       4.39 :1, 3.58 :1, 3.47 :1, 3.88 :1, 4.04 :1, 3.6  :1, 4.53 :1, 3.72 :1, 2.96 :0,\n",
    "       3.4  :1, 3.51 :1, 4.215:1, 3.055:1, 3.06 :1, 3.53 :1, 3.435:1, 3.41 :1, 3.86 :1,\n",
    "       3.62 :1, 4.5  :1, 4.42 :1, 4.14 :1, 3.01 :1, 4.24 :1, 2.53 :0, 3.535:1, 2.665:0,\n",
    "       3.49 :1, 3.52 :1, 3.25 :1, 4.465:1, 4.66 :1, 3.7  :0, 2.495:0, 4.13 :1, 4.37 :1,\n",
    "       2.66 :0, 2.3  :0, 2.85 :0, 3.31 :1, 3.03 :1, 3.97 :1, 2.75 :0, 3.355:1, 3.75 :1,\n",
    "       2.775:0, 4.68 :1, 3.15 :1, 3.91 :1, 2.94 :0, 3.24 :1, 4.475:1, 3.67 :1, 3.38 :1,\n",
    "       4.38 :1, 4.59 :1, 3.295:1, 3.82 :1, 4.64 :1, 4.1  :1, 2.55 :0, 3.37 :1, 3.48 :1,\n",
    "       2.73 :0, 3.945:1, 3.285:1, 3.93 :1, 4.27 :1, 4.28 :1, 2.34 :0, 3.815:1, 2.79 :0,\n",
    "       4.035:1, 3.44 :1, 4.325:1, 3.95 :1, 2.785:0, 3.02 :1, 3.64 :1, 4.22 :1, 2.82 :0,\n",
    "       3.755:1, 3.78 :1, 3.81 :1, 3.92 :1, 4.375:1, 3.3  :1, 3.035:1, 3.575:1, 2.83 :0,\n",
    "       2.92 :0, 4.08 :1, 4.43 :1, 2.58 :0, 3.28 :1, 3.705:1, 3.935:1, 3.23 :1, 4.06 :1,\n",
    "       4.46 :1, 4.6  :1, 2.8  :0, 2.61 :0, 2.69 :0, 2.35 :0, 2.87 :0, 3.79 :1, 3.485:1,\n",
    "       2.91 :0, 2.99 :0, 3.825:1, 4.445:1, 2.985:0, 2.37 :0, 3.745:1, 2.995:0, 3.65 :1,\n",
    "       2.33 :0, 2.895:0, 3.69 :1, 2.52 :0, 2.51 :0, 4.02 :1, 4.54 :1, 3.255:1, 2.595:0,\n",
    "       3.615:1, 4.34 :1, 4.05 :1, 4.35 :1, 4.41 :1, 2.71 :0, 3.475:1, 4.015:1, 4.31 :1,\n",
    "       2.955:0, 2.72 :0, 4.48 :1, 3.605:1, 3.415:1, 4.32 :1, 2.965:0, 3.655:1, 4.7  :1,\n",
    "       2.57 :0, 4.15 :1, 3.885:1, 2.7  :0, 2.36 :0, 2.68 :0, 2.74 :0, 3.315:1, 4.005:1,\n",
    "       2.65 :0, 4.71 :1, 4.25 :1, 3.   :1, 3.585:1, 3.075:1, 3.105:1, 2.255:0, 3.185:1,\n",
    "       4.44 :1, 2.47 :0, 4.47 :1, 3.135:1, 4.9  :1, 4.52 :1, 4.57 :1, 3.595:1, 3.495:1,\n",
    "       4.56 :1, 2.4  :0, 4.11 :1, 3.165:1, 3.395:1, 4.29 :1, 3.275:1, 2.39 :0, 3.875:1,\n",
    "       3.555:1, 3.855:1, 2.44 :0, 2.64 :0, 3.095:1, 3.915:1, 2.5  :0, 2.345:0, 2.615:0,\n",
    "       2.76 :0, 4.125:1, 3.025:1, 3.205:1, 3.465:1, 3.895:1, 2.48 :0, 4.49 :1, 2.77 :0,\n",
    "       2.24 :0, 2.86 :0, 3.235:1, 2.46 :0, 2.59 :0, 3.445:1, 2.45 :0, 2.25 :0, 4.435:1,\n",
    "       3.715:1, 2.735:0, 4.4  :1, 4.63 :1, 3.835:1, 3.305:1, 2.375:0, 4.69 :1, 4.155:1,\n",
    "       3.455:1, 4.23 :1, 2.655:0, 3.685:1, 3.625:1, 4.025:1, 2.885:0, 4.36 :1, 2.945:0,\n",
    "       2.855:0, 4.115:1, 2.09 :0, 3.795:1, 3.045:1, 3.645:1, 2.975:0, 3.775:1, 2.21 :0,\n",
    "       4.85 :1, 2.795:0, 4.135:1, 4.78 :1, 2.635:0, 4.095:1, 2.625:0, 3.725:1, 2.835:0,\n",
    "       4.79 :1, 3.115:1, 4.87 :1, 2.245:0, 4.865:1, 4.495:1, 3.375:1, 2.43 :0, 4.395:1,\n",
    "       3.545:1, 4.585:1, 4.705:1, 4.83 :1, 4.195:1, 3.365:1, 2.06 :0, 3.995:1, 3.965:1,\n",
    "       3.635:1, 3.695:1, 4.405:1, 3.785:1, 3.515:1, 3.385:1, 4.515:1, 4.95 :1, 4.255:1,\n",
    "       4.72 :1, 4.65 :1, 4.045:1, 2.32 :0, 4.73 :1, 4.075:1, 3.145:1, 2.715:0, 3.565:1,\n",
    "       4.655:1, 2.525:0, 2.565:0, 2.31 :0, 4.165:1, 2.925:0, 2.41 :0, 4.085:1, 3.525:1,\n",
    "       3.015:1, 2.22 :0, 4.275:1, 3.905:1, 2.515:0, 3.955:1, 3.845:1, 4.345:1, 2.585:0,\n",
    "       4.75 :1, 3.335:1, 2.18 :0, 2.23 :0, 4.67 :1, 2.455:0, 4.455:1, 2.805:0, 3.345:1,\n",
    "       4.62 :1, 4.105:1, 3.405:1, 4.615:1, 4.185:1, 2.815:0, 4.45 :1, 4.97 :1, 4.415:1,\n",
    "       4.055:1, 2.645:0, 2.685:0, 4.315:1, 2.845:0, 4.82 :1, 4.225:1, 3.155:1, 4.205:1,\n",
    "       4.51 :1, 2.865:0, 2.765:0, 4.605:1, 3.065:1, 2.545:0, 3.265:1, 4.425:1, 2.56 :0,\n",
    "       2.745:0, 4.065:1, 4.295:1, 2.   :0, 4.55 :1, 3.975:1, 3.675:1, 2.915:0, 2.2  :0,\n",
    "       3.005:1, 2.385:0, 2.38 :0, 3.665:1, 2.535:0, 3.325:1, 3.925:1, 3.125:1, 4.335:1,\n",
    "       4.385:1, 2.27 :0, 4.93 :1, 3.805:1, 4.77 :1, 2.195:0, 4.175:1, 2.675:0, 4.695:1,\n",
    "       2.445:0, 4.265:1, 4.765:1, 2.335:0, 2.465:0, 4.81 :1, 2.905:0, 3.195:1, 3.245:1,\n",
    "       4.675:1, 4.94 :1})"
   ]
  },
  {
   "cell_type": "code",
   "execution_count": 7,
   "metadata": {},
   "outputs": [],
   "source": [
    "df=df.dropna()"
   ]
  },
  {
   "cell_type": "code",
   "execution_count": 8,
   "metadata": {},
   "outputs": [],
   "source": [
    "from sklearn.preprocessing import LabelEncoder\n",
    "var_mod = ['PRT_ID', 'INT_SQFT', 'DATE_SALE', 'DIST_MAINROAD', 'N_BEDROOM',\n",
    "       'N_BATHROOM', 'N_ROOM', 'SALE_COND', 'PARK_FACIL', 'DATE_BUILD',\n",
    "       'BUILDTYPE', 'UTILITY_AVAIL', 'STREET', 'MZZONE', 'QS_ROOMS',\n",
    "       'QS_BATHROOM', 'QS_BEDROOM', 'QS_OVERALL', 'REG_FEE', 'COMMIS',\n",
    "       'SALES_PRICE', 'places']\n",
    "le = LabelEncoder()\n",
    "for i in var_mod:\n",
    "    df[i] = le.fit_transform(df[i]).astype(int)"
   ]
  },
  {
   "cell_type": "code",
   "execution_count": 9,
   "metadata": {},
   "outputs": [],
   "source": [
    "\n",
    "from sklearn.metrics import confusion_matrix, classification_report, matthews_corrcoef, cohen_kappa_score, accuracy_score, average_precision_score, roc_auc_score"
   ]
  },
  {
   "cell_type": "code",
   "execution_count": 10,
   "metadata": {},
   "outputs": [],
   "source": [
    "X = df.drop(labels='class', axis=1)\n",
    "\n",
    "y = df.loc[:,'class']   "
   ]
  },
  {
   "cell_type": "code",
   "execution_count": 11,
   "metadata": {},
   "outputs": [],
   "source": [
    "from sklearn.model_selection import train_test_split\n",
    "X_train, X_test, y_train, y_test = train_test_split(X, y, test_size=0.3, random_state=1, stratify=y)"
   ]
  },
  {
   "cell_type": "markdown",
   "metadata": {},
   "source": [
    "Logistic Regression :"
   ]
  },
  {
   "cell_type": "code",
   "execution_count": 12,
   "metadata": {},
   "outputs": [
    {
     "name": "stdout",
     "output_type": "stream",
     "text": [
      "\n",
      "Classification report of Logistic Regression Results:\n",
      "\n",
      "              precision    recall  f1-score   support\n",
      "\n",
      "         0.0       0.93      0.85      0.89       392\n",
      "         1.0       0.97      0.99      0.98      1725\n",
      "\n",
      "    accuracy                           0.96      2117\n",
      "   macro avg       0.95      0.92      0.93      2117\n",
      "weighted avg       0.96      0.96      0.96      2117\n",
      "\n",
      "Accuracy result of Logistic Regression is: 96.07935758148322\n",
      "\n",
      "Confusion Matrix result of Logistic Regression is:\n",
      " [[ 333   59]\n",
      " [  24 1701]]\n",
      "\n",
      "Sensitivity :  0.8494897959183674\n",
      "\n",
      "Specificity :  0.9860869565217392\n",
      "\n"
     ]
    }
   ],
   "source": [
    "from sklearn.linear_model import LogisticRegression\n",
    "logR= LogisticRegression()\n",
    "\n",
    "logR.fit(X_train,y_train)\n",
    "\n",
    "predictR = logR.predict(X_test)\n",
    "\n",
    "print(\"\")\n",
    "print('Classification report of Logistic Regression Results:')\n",
    "print(\"\")\n",
    "\n",
    "print(classification_report(y_test,predictR))\n",
    "x = (accuracy_score(y_test,predictR)*100)\n",
    "\n",
    "print('Accuracy result of Logistic Regression is:', x)\n",
    "print(\"\")\n",
    "cm1=confusion_matrix(y_test,predictR)\n",
    "print('Confusion Matrix result of Logistic Regression is:\\n',cm1)\n",
    "print(\"\")\n",
    "sensitivity1 = cm1[0,0]/(cm1[0,0]+cm1[0,1])\n",
    "print('Sensitivity : ', sensitivity1 )\n",
    "print(\"\")\n",
    "specificity1 = cm1[1,1]/(cm1[1,0]+cm1[1,1])\n",
    "print('Specificity : ', specificity1)\n",
    "print(\"\")\n"
   ]
  },
  {
   "cell_type": "code",
   "execution_count": 13,
   "metadata": {},
   "outputs": [
    {
     "name": "stdout",
     "output_type": "stream",
     "text": [
      "True Positive : 1701\n",
      "True Negative : 333\n",
      "False Positive : 59\n",
      "False Negative : 24\n",
      "\n",
      "True Positive Rate : 0.9860869565217392\n",
      "True Negative Rate : 0.8494897959183674\n",
      "False Positive Rate : 0.15051020408163265\n",
      "False Negative Rate : 0.01391304347826087\n",
      "\n",
      "Positive Predictive Value : 0.9664772727272727\n",
      "Negative predictive value : 0.9327731092436975\n"
     ]
    }
   ],
   "source": [
    "TN = cm1[0][0]\n",
    "FN = cm1[1][0]\n",
    "TP = cm1[1][1]\n",
    "FP = cm1[0][1]\n",
    "print(\"True Positive :\",TP)\n",
    "print(\"True Negative :\",TN)\n",
    "print(\"False Positive :\",FP)\n",
    "print(\"False Negative :\",FN)\n",
    "print(\"\")\n",
    "TPR = TP/(TP+FN)\n",
    "TNR = TN/(TN+FP)\n",
    "FPR = FP/(FP+TN)\n",
    "FNR = FN/(TP+FN)\n",
    "print(\"True Positive Rate :\",TPR)\n",
    "print(\"True Negative Rate :\",TNR)\n",
    "print(\"False Positive Rate :\",FPR)\n",
    "print(\"False Negative Rate :\",FNR)\n",
    "print(\"\")\n",
    "PPV = TP/(TP+FP)\n",
    "NPV = TN/(TN+FN)\n",
    "print(\"Positive Predictive Value :\",PPV)\n",
    "print(\"Negative predictive value :\",NPV)"
   ]
  },
  {
   "cell_type": "code",
   "execution_count": 14,
   "metadata": {},
   "outputs": [],
   "source": [
    "def plot_confusion_matrix(cm1, title='Confusion matrix-LR', cmap=plt.cm.Blues):\n",
    "    target_names=['Predict','Actual']\n",
    "    plt.imshow(cm1, interpolation='nearest', cmap=cmap)\n",
    "    plt.title(title)\n",
    "    plt.colorbar()\n",
    "    tick_marks = n.arange(len(target_names))\n",
    "    plt.xticks(tick_marks, target_names, rotation=45)\n",
    "    plt.yticks(tick_marks, target_names)\n",
    "    plt.tight_layout()\n",
    "    plt.ylabel('True label')\n",
    "    plt.xlabel('Predicted label')"
   ]
  },
  {
   "cell_type": "code",
   "execution_count": 15,
   "metadata": {},
   "outputs": [
    {
     "name": "stdout",
     "output_type": "stream",
     "text": [
      "Confusion matrix-LR:\n",
      "[[ 333   59]\n",
      " [  24 1701]]\n"
     ]
    },
    {
     "data": {
      "image/png": "[encoded data removed]",
      "text/plain": [
       "<Figure size 432x288 with 2 Axes>"
      ]
     },
     "metadata": {
      "needs_background": "light"
     },
     "output_type": "display_data"
    }
   ],
   "source": [
    "cm1=confusion_matrix(y_test, predictR)\n",
    "print('Confusion matrix-LR:')\n",
    "print(cm1)\n",
    "plot_confusion_matrix(cm1)"
   ]
  },
  {
   "cell_type": "code",
   "execution_count": 16,
   "metadata": {},
   "outputs": [],
   "source": [
    "from sklearn.metrics import roc_curve, auc\n",
    "def plot_roc_curve(y_test, predictR):\n",
    "    false_positive_rate, true_positive_rate, thresholds = roc_curve(y_test, predictR)\n",
    "    print (\"False Positive rate: \",false_positive_rate)\n",
    "    print (\"True Positive rate: \",true_positive_rate)\n",
    "    \n",
    "    roc_auc = auc(false_positive_rate, true_positive_rate)\n",
    "\n",
    "    plt.title('Receiver Operating Characteristic-LR')\n",
    "    plt.plot(false_positive_rate, true_positive_rate, 'b',\n",
    "    label='AUC = %0.2f'% roc_auc)\n",
    "    plt.legend(loc='lower right')\n",
    "    plt.plot([0,1],[0,1],'r--')\n",
    "    plt.xlim([-0.1,1.2])\n",
    "    plt.ylim([-0.1,1.2])\n",
    "    plt.ylabel('True Positive Rate')\n",
    "    plt.xlabel('False Positive Rate')\n",
    "    plt.show()"
   ]
  },
  {
   "cell_type": "code",
   "execution_count": 17,
   "metadata": {},
   "outputs": [
    {
     "name": "stdout",
     "output_type": "stream",
     "text": [
      "False Positive rate:  [0.        0.1505102 1.       ]\n",
      "True Positive rate:  [0.         0.98608696 1.        ]\n"
     ]
    },
    {
     "data": {
      "image/png": "[encoded data removed]",
      "text/plain": [
       "<Figure size 432x288 with 1 Axes>"
      ]
     },
     "metadata": {
      "needs_background": "light"
     },
     "output_type": "display_data"
    }
   ],
   "source": [
    "plot_roc_curve(y_test, predictR)"
   ]
  },
  {
   "cell_type": "markdown",
   "metadata": {},
   "source": [
    "Support Vector Machines:"
   ]
  },
  {
   "cell_type": "code",
   "execution_count": 18,
   "metadata": {},
   "outputs": [
    {
     "name": "stdout",
     "output_type": "stream",
     "text": [
      "\n",
      "Classification report of Support Vector Machines Results:\n",
      "\n",
      "              precision    recall  f1-score   support\n",
      "\n",
      "         0.0       0.00      0.00      0.00       392\n",
      "         1.0       0.81      1.00      0.90      1725\n",
      "\n",
      "    accuracy                           0.81      2117\n",
      "   macro avg       0.41      0.50      0.45      2117\n",
      "weighted avg       0.66      0.81      0.73      2117\n",
      "\n",
      "Accuracy result of Support Vector Machines is: 81.4832309872461\n",
      "\n",
      "Confusion Matrix result of Support Vector Machines is:\n",
      " [[   0  392]\n",
      " [   0 1725]]\n",
      "\n",
      "Sensitivity :  0.0\n",
      "\n",
      "Specificity :  1.0\n",
      "\n"
     ]
    }
   ],
   "source": [
    "from sklearn.svm import SVC\n",
    "s = SVC()\n",
    "\n",
    "s.fit(X_train,y_train)\n",
    "\n",
    "predicts = s.predict(X_test)\n",
    "\n",
    "print(\"\")\n",
    "print('Classification report of Support Vector Machines Results:')\n",
    "print(\"\")\n",
    "\n",
    "print(classification_report(y_test,predicts))\n",
    "x = (accuracy_score(y_test,predicts)*100)\n",
    "\n",
    "print('Accuracy result of Support Vector Machines is:', x)\n",
    "print(\"\")\n",
    "cm2=confusion_matrix(y_test,predicts)\n",
    "print('Confusion Matrix result of Support Vector Machines is:\\n',cm2)\n",
    "print(\"\")\n",
    "sensitivity1 = cm2[0,0]/(cm2[0,0]+cm2[0,1])\n",
    "print('Sensitivity : ', sensitivity1 )\n",
    "print(\"\")\n",
    "specificity1 = cm2[1,1]/(cm2[1,0]+cm2[1,1])\n",
    "print('Specificity : ', specificity1)\n",
    "print(\"\")\n"
   ]
  },
  {
   "cell_type": "code",
   "execution_count": 19,
   "metadata": {},
   "outputs": [
    {
     "name": "stdout",
     "output_type": "stream",
     "text": [
      "True Positive : 1725\n",
      "True Negative : 0\n",
      "False Positive : 392\n",
      "False Negative : 0\n",
      "\n",
      "True Positive Rate : 1.0\n",
      "True Negative Rate : 0.0\n",
      "False Positive Rate : 1.0\n",
      "False Negative Rate : 0.0\n",
      "\n",
      "Positive Predictive Value : 0.814832309872461\n",
      "Negative predictive value : nan\n"
     ]
    }
   ],
   "source": [
    "TN = cm2[0][0]\n",
    "FN = cm2[1][0]\n",
    "TP = cm2[1][1]\n",
    "FP = cm2[0][1]\n",
    "print(\"True Positive :\",TP)\n",
    "print(\"True Negative :\",TN)\n",
    "print(\"False Positive :\",FP)\n",
    "print(\"False Negative :\",FN)\n",
    "print(\"\")\n",
    "TPR = TP/(TP+FN)\n",
    "TNR = TN/(TN+FP)\n",
    "FPR = FP/(FP+TN)\n",
    "FNR = FN/(TP+FN)\n",
    "print(\"True Positive Rate :\",TPR)\n",
    "print(\"True Negative Rate :\",TNR)\n",
    "print(\"False Positive Rate :\",FPR)\n",
    "print(\"False Negative Rate :\",FNR)\n",
    "print(\"\")\n",
    "PPV = TP/(TP+FP)\n",
    "NPV = TN/(TN+FN)\n",
    "print(\"Positive Predictive Value :\",PPV)\n",
    "print(\"Negative predictive value :\",NPV)"
   ]
  },
  {
   "cell_type": "code",
   "execution_count": 20,
   "metadata": {},
   "outputs": [],
   "source": [
    "def plot_confusion_matrix(cm2, title='Confusion matrix-SVM', cmap=plt.cm.Blues):\n",
    "    target_names=['Predict','Actual']\n",
    "    plt.imshow(cm2, interpolation='nearest', cmap=cmap)\n",
    "    plt.title(title)\n",
    "    plt.colorbar()\n",
    "    tick_marks = n.arange(len(target_names))\n",
    "    plt.xticks(tick_marks, target_names, rotation=45)\n",
    "    plt.yticks(tick_marks, target_names)\n",
    "    plt.tight_layout()\n",
    "    plt.ylabel('True label')\n",
    "    plt.xlabel('Predicted label')"
   ]
  },
  {
   "cell_type": "code",
   "execution_count": 21,
   "metadata": {},
   "outputs": [
    {
     "name": "stdout",
     "output_type": "stream",
     "text": [
      "Confusion matrix-SVM:\n",
      "[[   0  392]\n",
      " [   0 1725]]\n"
     ]
    },
    {
     "data": {
      "image/png": "[encoded data removed]",
      "text/plain": [
       "<Figure size 432x288 with 2 Axes>"
      ]
     },
     "metadata": {
      "needs_background": "light"
     },
     "output_type": "display_data"
    }
   ],
   "source": [
    "cm2=confusion_matrix(y_test, predicts)\n",
    "print('Confusion matrix-SVM:')\n",
    "print(cm2)\n",
    "plot_confusion_matrix(cm2)"
   ]
  },
  {
   "cell_type": "code",
   "execution_count": 22,
   "metadata": {},
   "outputs": [],
   "source": [
    "from sklearn.metrics import roc_curve, auc\n",
    "def plot_roc_curve(y_test, predicts):\n",
    "    false_positive_rate, true_positive_rate, thresholds = roc_curve(y_test, predicts)\n",
    "    print (\"False Positive rate: \",false_positive_rate)\n",
    "    print (\"True Positive rate: \",true_positive_rate)\n",
    "    \n",
    "    roc_auc = auc(false_positive_rate, true_positive_rate)\n",
    "\n",
    "    plt.title('Receiver Operating Characteristic-SVM')\n",
    "    plt.plot(false_positive_rate, true_positive_rate, 'b',\n",
    "    label='AUC = %0.2f'% roc_auc)\n",
    "    plt.legend(loc='lower right')\n",
    "    plt.plot([0,1],[0,1],'r--')\n",
    "    plt.xlim([-0.1,1.2])\n",
    "    plt.ylim([-0.1,1.2])\n",
    "    plt.ylabel('True Positive Rate')\n",
    "    plt.xlabel('False Positive Rate')\n",
    "    plt.show()"
   ]
  },
  {
   "cell_type": "code",
   "execution_count": 23,
   "metadata": {},
   "outputs": [
    {
     "name": "stdout",
     "output_type": "stream",
     "text": [
      "False Positive rate:  [0. 1.]\n",
      "True Positive rate:  [0. 1.]\n"
     ]
    },
    {
     "data": {
      "image/png": "[encoded data removed]",
      "text/plain": [
       "<Figure size 432x288 with 1 Axes>"
      ]
     },
     "metadata": {
      "needs_background": "light"
     },
     "output_type": "display_data"
    }
   ],
   "source": [
    "plot_roc_curve(y_test, predicts)"
   ]
  },
  {
   "cell_type": "code",
   "execution_count": null,
   "metadata": {},
   "outputs": [],
   "source": []
  },
  {
   "cell_type": "code",
   "execution_count": null,
   "metadata": {},
   "outputs": [],
   "source": []
  }
 ],
 "metadata": {
  "kernelspec": {
   "display_name": "Python 3",
   "language": "python",
   "name": "python3"
  },
  "language_info": {
   "codemirror_mode": {
    "name": "ipython",
    "version": 3
   },
   "file_extension": ".py",
   "mimetype": "text/x-python",
   "name": "python",
   "nbconvert_exporter": "python",
   "pygments_lexer": "ipython3",
   "version": "3.7.3"
  }
 },
 "nbformat": 4,
 "nbformat_minor": 2
}

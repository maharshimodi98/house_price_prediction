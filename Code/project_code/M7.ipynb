{
 "cells": [
  {
   "cell_type": "markdown",
   "metadata": {},
   "source": [
    "# GUI Prediction"
   ]
  },
  {
   "cell_type": "code",
   "execution_count": 73,
   "metadata": {},
   "outputs": [],
   "source": [
    "import warnings\n",
    "warnings.filterwarnings(\"ignore\")"
   ]
  },
  {
   "cell_type": "code",
   "execution_count": 74,
   "metadata": {},
   "outputs": [],
   "source": [
    "from tkinter import *\n",
    "import numpy as np\n",
    "import pandas as pd"
   ]
  },
  {
   "cell_type": "code",
   "execution_count": 75,
   "metadata": {},
   "outputs": [],
   "source": [
    "df = pd.read_csv(\"train.csv\")"
   ]
  },
  {
   "cell_type": "code",
   "execution_count": 76,
   "metadata": {},
   "outputs": [],
   "source": [
    "df=df.dropna()"
   ]
  },
  {
   "cell_type": "code",
   "execution_count": 77,
   "metadata": {},
   "outputs": [],
   "source": [
    "df['places'] = df.AREA.map({'Karapakkam':'Karapakkam', 'Anna Nagar':'Anna_Nagar', 'Adyar':'Adyar', 'Velachery':'Velachery',\n",
    "'Chrompet':'Chrompet', 'KK Nagar':'KK_Nagar', 'TNagar':'T_Nagar', 'T Nagar':'T_Nagar', 'Chrompt':'Chrompet',\n",
    "'Chrmpet':'Chrompet', 'Karapakam':'Karapakkam','Ana Nagar':'Anna_Nagar', 'Chormpet':'Chrompet', 'Adyr':'Adyar', 'Velchery':'Velachery','Ann Nagar':'Anna_Nagar',\n",
    "'KKNagar':'KK_Nagar'})"
   ]
  },
  {
   "cell_type": "code",
   "execution_count": 78,
   "metadata": {},
   "outputs": [],
   "source": [
    "del df['AREA']"
   ]
  },
  {
   "cell_type": "code",
   "execution_count": 79,
   "metadata": {},
   "outputs": [
    {
     "data": {
      "text/html": [
       "<div>\n",
       "<style scoped>\n",
       "    .dataframe tbody tr th:only-of-type {\n",
       "        vertical-align: middle;\n",
       "    }\n",
       "\n",
       "    .dataframe tbody tr th {\n",
       "        vertical-align: top;\n",
       "    }\n",
       "\n",
       "    .dataframe thead th {\n",
       "        text-align: right;\n",
       "    }\n",
       "</style>\n",
       "<table border=\"1\" class=\"dataframe\">\n",
       "  <thead>\n",
       "    <tr style=\"text-align: right;\">\n",
       "      <th></th>\n",
       "      <th>PRT_ID</th>\n",
       "      <th>INT_SQFT</th>\n",
       "      <th>DATE_SALE</th>\n",
       "      <th>DIST_MAINROAD</th>\n",
       "      <th>N_BEDROOM</th>\n",
       "      <th>N_BATHROOM</th>\n",
       "      <th>N_ROOM</th>\n",
       "      <th>SALE_COND</th>\n",
       "      <th>PARK_FACIL</th>\n",
       "      <th>DATE_BUILD</th>\n",
       "      <th>...</th>\n",
       "      <th>STREET</th>\n",
       "      <th>MZZONE</th>\n",
       "      <th>QS_ROOMS</th>\n",
       "      <th>QS_BATHROOM</th>\n",
       "      <th>QS_BEDROOM</th>\n",
       "      <th>QS_OVERALL</th>\n",
       "      <th>REG_FEE</th>\n",
       "      <th>COMMIS</th>\n",
       "      <th>SALES_PRICE</th>\n",
       "      <th>places</th>\n",
       "    </tr>\n",
       "  </thead>\n",
       "  <tbody>\n",
       "    <tr>\n",
       "      <th>0</th>\n",
       "      <td>P03210</td>\n",
       "      <td>1004</td>\n",
       "      <td>04-05-2011</td>\n",
       "      <td>131</td>\n",
       "      <td>1.0</td>\n",
       "      <td>1.0</td>\n",
       "      <td>3</td>\n",
       "      <td>AbNormal</td>\n",
       "      <td>Yes</td>\n",
       "      <td>15-05-1967</td>\n",
       "      <td>...</td>\n",
       "      <td>Paved</td>\n",
       "      <td>A</td>\n",
       "      <td>4.0</td>\n",
       "      <td>3.9</td>\n",
       "      <td>4.9</td>\n",
       "      <td>4.330</td>\n",
       "      <td>380000</td>\n",
       "      <td>144400</td>\n",
       "      <td>7600000</td>\n",
       "      <td>Karapakkam</td>\n",
       "    </tr>\n",
       "    <tr>\n",
       "      <th>1</th>\n",
       "      <td>P09411</td>\n",
       "      <td>1986</td>\n",
       "      <td>19-12-2006</td>\n",
       "      <td>26</td>\n",
       "      <td>2.0</td>\n",
       "      <td>1.0</td>\n",
       "      <td>5</td>\n",
       "      <td>AbNormal</td>\n",
       "      <td>No</td>\n",
       "      <td>22-12-1995</td>\n",
       "      <td>...</td>\n",
       "      <td>Gravel</td>\n",
       "      <td>RH</td>\n",
       "      <td>4.9</td>\n",
       "      <td>4.2</td>\n",
       "      <td>2.5</td>\n",
       "      <td>3.765</td>\n",
       "      <td>760122</td>\n",
       "      <td>304049</td>\n",
       "      <td>21717770</td>\n",
       "      <td>Anna_Nagar</td>\n",
       "    </tr>\n",
       "    <tr>\n",
       "      <th>2</th>\n",
       "      <td>P01812</td>\n",
       "      <td>909</td>\n",
       "      <td>04-02-2012</td>\n",
       "      <td>70</td>\n",
       "      <td>1.0</td>\n",
       "      <td>1.0</td>\n",
       "      <td>3</td>\n",
       "      <td>AbNormal</td>\n",
       "      <td>Yes</td>\n",
       "      <td>09-02-1992</td>\n",
       "      <td>...</td>\n",
       "      <td>Gravel</td>\n",
       "      <td>RL</td>\n",
       "      <td>4.1</td>\n",
       "      <td>3.8</td>\n",
       "      <td>2.2</td>\n",
       "      <td>3.090</td>\n",
       "      <td>421094</td>\n",
       "      <td>92114</td>\n",
       "      <td>13159200</td>\n",
       "      <td>Adyar</td>\n",
       "    </tr>\n",
       "    <tr>\n",
       "      <th>3</th>\n",
       "      <td>P05346</td>\n",
       "      <td>1855</td>\n",
       "      <td>13-03-2010</td>\n",
       "      <td>14</td>\n",
       "      <td>3.0</td>\n",
       "      <td>2.0</td>\n",
       "      <td>5</td>\n",
       "      <td>Family</td>\n",
       "      <td>No</td>\n",
       "      <td>18-03-1988</td>\n",
       "      <td>...</td>\n",
       "      <td>Paved</td>\n",
       "      <td>I</td>\n",
       "      <td>4.7</td>\n",
       "      <td>3.9</td>\n",
       "      <td>3.6</td>\n",
       "      <td>4.010</td>\n",
       "      <td>356321</td>\n",
       "      <td>77042</td>\n",
       "      <td>9630290</td>\n",
       "      <td>Velachery</td>\n",
       "    </tr>\n",
       "    <tr>\n",
       "      <th>4</th>\n",
       "      <td>P06210</td>\n",
       "      <td>1226</td>\n",
       "      <td>05-10-2009</td>\n",
       "      <td>84</td>\n",
       "      <td>1.0</td>\n",
       "      <td>1.0</td>\n",
       "      <td>3</td>\n",
       "      <td>AbNormal</td>\n",
       "      <td>Yes</td>\n",
       "      <td>13-10-1979</td>\n",
       "      <td>...</td>\n",
       "      <td>Gravel</td>\n",
       "      <td>C</td>\n",
       "      <td>3.0</td>\n",
       "      <td>2.5</td>\n",
       "      <td>4.1</td>\n",
       "      <td>3.290</td>\n",
       "      <td>237000</td>\n",
       "      <td>74063</td>\n",
       "      <td>7406250</td>\n",
       "      <td>Karapakkam</td>\n",
       "    </tr>\n",
       "  </tbody>\n",
       "</table>\n",
       "<p>5 rows × 22 columns</p>\n",
       "</div>"
      ],
      "text/plain": [
       "   PRT_ID  INT_SQFT   DATE_SALE  DIST_MAINROAD  N_BEDROOM  N_BATHROOM  N_ROOM  \\\n",
       "0  P03210      1004  04-05-2011            131        1.0         1.0       3   \n",
       "1  P09411      1986  19-12-2006             26        2.0         1.0       5   \n",
       "2  P01812       909  04-02-2012             70        1.0         1.0       3   \n",
       "3  P05346      1855  13-03-2010             14        3.0         2.0       5   \n",
       "4  P06210      1226  05-10-2009             84        1.0         1.0       3   \n",
       "\n",
       "  SALE_COND PARK_FACIL  DATE_BUILD  ...  STREET MZZONE QS_ROOMS QS_BATHROOM  \\\n",
       "0  AbNormal        Yes  15-05-1967  ...   Paved      A      4.0         3.9   \n",
       "1  AbNormal         No  22-12-1995  ...  Gravel     RH      4.9         4.2   \n",
       "2  AbNormal        Yes  09-02-1992  ...  Gravel     RL      4.1         3.8   \n",
       "3    Family         No  18-03-1988  ...   Paved      I      4.7         3.9   \n",
       "4  AbNormal        Yes  13-10-1979  ...  Gravel      C      3.0         2.5   \n",
       "\n",
       "   QS_BEDROOM  QS_OVERALL  REG_FEE  COMMIS  SALES_PRICE      places  \n",
       "0         4.9       4.330   380000  144400      7600000  Karapakkam  \n",
       "1         2.5       3.765   760122  304049     21717770  Anna_Nagar  \n",
       "2         2.2       3.090   421094   92114     13159200       Adyar  \n",
       "3         3.6       4.010   356321   77042      9630290   Velachery  \n",
       "4         4.1       3.290   237000   74063      7406250  Karapakkam  \n",
       "\n",
       "[5 rows x 22 columns]"
      ]
     },
     "execution_count": 79,
     "metadata": {},
     "output_type": "execute_result"
    }
   ],
   "source": [
    "df.head()"
   ]
  },
  {
   "cell_type": "code",
   "execution_count": 80,
   "metadata": {},
   "outputs": [
    {
     "data": {
      "text/plain": [
       "(7056, 22)"
      ]
     },
     "execution_count": 80,
     "metadata": {},
     "output_type": "execute_result"
    }
   ],
   "source": [
    "df.shape"
   ]
  },
  {
   "cell_type": "code",
   "execution_count": 81,
   "metadata": {},
   "outputs": [
    {
     "data": {
      "text/plain": [
       "Index(['PRT_ID', 'INT_SQFT', 'DATE_SALE', 'DIST_MAINROAD', 'N_BEDROOM',\n",
       "       'N_BATHROOM', 'N_ROOM', 'SALE_COND', 'PARK_FACIL', 'DATE_BUILD',\n",
       "       'BUILDTYPE', 'UTILITY_AVAIL', 'STREET', 'MZZONE', 'QS_ROOMS',\n",
       "       'QS_BATHROOM', 'QS_BEDROOM', 'QS_OVERALL', 'REG_FEE', 'COMMIS',\n",
       "       'SALES_PRICE', 'places'],\n",
       "      dtype='object')"
      ]
     },
     "execution_count": 81,
     "metadata": {},
     "output_type": "execute_result"
    }
   ],
   "source": [
    "df.columns"
   ]
  },
  {
   "cell_type": "code",
   "execution_count": 82,
   "metadata": {},
   "outputs": [],
   "source": [
    "del df[\"PRT_ID\"]\n",
    "del df[\"DATE_SALE\"]\n",
    "del df[\"DATE_BUILD\"]\n",
    "del df[\"BUILDTYPE\"]\n",
    "del df[\"UTILITY_AVAIL\"]\n",
    "del df[\"STREET\"]\n",
    "del df[\"MZZONE\"]\n",
    "del df[\"QS_ROOMS\"]\n",
    "del df[\"QS_BATHROOM\"]\n",
    "del df[\"QS_BEDROOM\"]\n",
    "del df[\"QS_OVERALL\"]\n"
   ]
  },
  {
   "cell_type": "code",
   "execution_count": 83,
   "metadata": {},
   "outputs": [
    {
     "data": {
      "text/plain": [
       "Index(['INT_SQFT', 'DIST_MAINROAD', 'N_BEDROOM', 'N_BATHROOM', 'N_ROOM',\n",
       "       'SALE_COND', 'PARK_FACIL', 'REG_FEE', 'COMMIS', 'SALES_PRICE',\n",
       "       'places'],\n",
       "      dtype='object')"
      ]
     },
     "execution_count": 83,
     "metadata": {},
     "output_type": "execute_result"
    }
   ],
   "source": [
    "df.columns"
   ]
  },
  {
   "cell_type": "code",
   "execution_count": 84,
   "metadata": {},
   "outputs": [
    {
     "data": {
      "text/plain": [
       "array([131,  26,  70,  14,  84,  36, 137, 176, 175,  74,  78, 143,  83,\n",
       "       157, 134,  69, 168,  53,  96, 114, 100, 111, 105,  29,  59, 185,\n",
       "       138, 173,  15, 117,  16, 130,  46, 180,  52,  86,  49, 113,  28,\n",
       "        51,  19, 167, 126,  75, 154,  25, 187, 200,  32,  11,  23,  13,\n",
       "        58,  89,  48, 177, 116,  41, 192,  72, 148,  24,  43,  85, 171,\n",
       "        73,  62, 145, 125, 121, 129,   6, 103,   8,  50,  67,   0, 147,\n",
       "        71,  34, 178, 106, 144, 135,  38,  40, 142,  79,  20,  99, 166,\n",
       "        63,  44,  60,  90, 169, 122, 108,  98,  57, 104,   1, 109, 164,\n",
       "       136,  97,  37,   9, 181,  93,  81, 193,  95, 196,  39, 141, 158,\n",
       "       174,  94, 124,  82,  76, 190, 194,  54,  64,  65, 115,  17, 102,\n",
       "        77, 182, 163,  88,  66, 119,  18, 188, 112, 159,   4, 123,  31,\n",
       "         2, 120, 184, 170, 110,   7, 152,  27, 198, 183,  12,  45, 161,\n",
       "        30, 118,  33,  61, 156, 191, 160, 149, 140,  47, 153, 146, 128,\n",
       "        80,  55, 151,   3,  92,  22,  35, 101, 127, 199, 132,  21, 107,\n",
       "        56,  10, 197, 186, 165,  87, 133, 195,  91,  68,   5,  42, 162,\n",
       "       155, 172, 189, 139, 179, 150], dtype=int64)"
      ]
     },
     "execution_count": 84,
     "metadata": {},
     "output_type": "execute_result"
    }
   ],
   "source": [
    "df['DIST_MAINROAD'].unique()"
   ]
  },
  {
   "cell_type": "code",
   "execution_count": 85,
   "metadata": {},
   "outputs": [],
   "source": [
    "df['dstm'] = df.DIST_MAINROAD.map({131:'Dist_Above_100KM',  26:'Dist_Above_20KM',  70:'Dist_Above_60KM',  14:'Dist_Above_10KM',\n",
    "                               84:'Dist_Above_80KM',  36:'Dist_Above_20KM', 137:'Dist_Above_100KM', 176:'Dist_Above_100KM',\n",
    "                               175:'Dist_Above_100KM',  74:'Dist_Above_60KM',  78:'Dist_Above_60KM', 143:'Dist_Above_100KM',\n",
    "                               83:'Dist_Above_80KM',\n",
    "       157:'Dist_Above_100KM', 148:'Dist_Above_100KM', 134:'Dist_Above_100KM',  69:'Dist_Above_60KM',\n",
    "                               168:'Dist_Above_100KM',  53:'Dist_Above_40KM',  96:'Dist_Above_80KM',\n",
    "                               114:'Dist_Above_100KM', 100:'Dist_Above_100KM', 111:'Dist_Above_100KM',\n",
    "                               105:'Dist_Above_100KM',  29:'Dist_Above_20KM',  59:'Dist_Above_40KM',\n",
    "       185:'Dist_Above_100KM', 138:'Dist_Above_100KM', 173:'Dist_Above_100KM',  15:'Dist_Above_10KM',\n",
    "                               117:'Dist_Above_100KM',  16:'Dist_Above_10KM', 130:'Dist_Above_100KM',\n",
    "                               46:'Dist_Above_40KM', 180:'Dist_Above_100KM',  52:'Dist_Above_40KM',  86:'Dist_Above_80KM',\n",
    "                               49:'Dist_Above_40KM', 113:'Dist_Above_100KM',\n",
    "       189:'Dist_Above_100KM',  28:'Dist_Above_20KM',  51:'Dist_Above_40KM',  19:'Dist_Above_10KM',\n",
    "                               167:'Dist_Above_100KM', 126:'Dist_Above_100KM',  75:'Dist_Above_60KM',\n",
    "                               154:'Dist_Above_100KM',  25:'Dist_Above_20KM', 187:'Dist_Above_100KM',\n",
    "                               200:'Dist_Above_100KM',  32:'Dist_Above_20KM',  11:'Dist_Above_10KM',\n",
    "        23:'Dist_Above_20KM',  13:'Dist_Above_10KM',  58:'Dist_Above_40KM',  89:'Dist_Above_80KM',  48:'Dist_Above_40KM',\n",
    "                               39:'Dist_Above_20KM', 177:'Dist_Above_100KM', 116:'Dist_Above_100KM',  41:'Dist_Above_40KM',\n",
    "                               192:'Dist_Above_100KM',  72:'Dist_Above_60KM',  24:'Dist_Above_20KM',  43:'Dist_Above_40KM',\n",
    "        85:'Dist_Above_80KM', 171:'Dist_Above_100KM', 149:'Dist_Above_100KM',  73:'Dist_Above_60KM',  62:'Dist_Above_60KM',\n",
    "                               145:'Dist_Above_100KM', 125:'Dist_Above_100KM', 121:'Dist_Above_100KM', 129:'Dist_Above_100KM',\n",
    "                               6:'Dist_Above_06KM', 103:'Dist_Above_100KM',   8:'Dist_Above_08KM',  50:'Dist_Above_40KM',\n",
    "        67:'Dist_Above_100KM',   0:'Dist_Below_01KM', 147:'Dist_Above_100KM',  71:'Dist_Above_60KM',  34:'Dist_Above_20KM',\n",
    "                               178:'Dist_Above_100KM', 106:'Dist_Above_100KM', 144:'Dist_Above_100KM', 135:'Dist_Above_100KM',\n",
    "                               38:'Dist_Above_20KM',  40:'Dist_Above_40KM', 142:'Dist_Above_100KM',  79:'Dist_Above_60KM',\n",
    "        20:'Dist_Above_20KM',  99:'Dist_Above_80KM', 166:'Dist_Above_100KM',  63:'Dist_Above_60KM',  44:'Dist_Above_40KM',\n",
    "                               60:'Dist_Above_60KM',  90:'Dist_Above_80KM', 169:'Dist_Above_100KM',  10:'Dist_Above_10KM',\n",
    "                               122:'Dist_Above_100KM', 108:'Dist_Above_100KM',  98:'Dist_Above_80KM',  57:'Dist_Above_40KM',\n",
    "       104:'Dist_Above_100KM',  17:'Dist_Above_10KM',   1:'Dist_Above_01KM', 109:'Dist_Above_100KM', 164:'Dist_Above_100KM',\n",
    "                               136:'Dist_Above_100KM',  97:'Dist_Above_80KM',  37:'Dist_Above_20KM',   9:'Dist_Below_09KM',\n",
    "                               181:'Dist_Above_100KM',  93:'Dist_Above_80KM',  81:'Dist_Above_80KM', 193:'Dist_Above_100KM',\n",
    "        95:'Dist_Above_80KM', 196:'Dist_Above_100KM', 141:'Dist_Above_100KM', 158:'Dist_Above_100KM', 174:'Dist_Above_100KM',\n",
    "                               94:'Dist_Above_80KM', 124:'Dist_Above_100KM',  82:'Dist_Above_80KM',  76:'Dist_Above_60KM',\n",
    "                               190:'Dist_Above_100KM', 194:'Dist_Above_100KM'})"
   ]
  },
  {
   "cell_type": "code",
   "execution_count": 86,
   "metadata": {},
   "outputs": [],
   "source": [
    "del df['DIST_MAINROAD']"
   ]
  },
  {
   "cell_type": "code",
   "execution_count": 87,
   "metadata": {},
   "outputs": [],
   "source": [
    "df=df.dropna()"
   ]
  },
  {
   "cell_type": "code",
   "execution_count": 88,
   "metadata": {},
   "outputs": [
    {
     "data": {
      "text/plain": [
       "array(['Dist_Above_100KM', 'Dist_Above_20KM', 'Dist_Above_60KM',\n",
       "       'Dist_Above_10KM', 'Dist_Above_80KM', 'Dist_Above_40KM',\n",
       "       'Dist_Above_06KM', 'Dist_Above_08KM', 'Dist_Below_01KM',\n",
       "       'Dist_Above_01KM', 'Dist_Below_09KM'], dtype=object)"
      ]
     },
     "execution_count": 88,
     "metadata": {},
     "output_type": "execute_result"
    }
   ],
   "source": [
    "df['dstm'].unique()"
   ]
  },
  {
   "cell_type": "code",
   "execution_count": 89,
   "metadata": {},
   "outputs": [],
   "source": [
    "df['Dist_Above_100KM'] = df.dstm.map({'Dist_Above_100KM':1, 'Dist_Above_20KM':0, 'Dist_Above_60KM':0,\n",
    "       'Dist_Above_10KM':0, 'Dist_Above_80KM':0, 'Dist_Above_40KM':0,\n",
    "       'Dist_Above_06KM':0, 'Dist_Above_08KM':0, 'Dist_Below_01KM':0,\n",
    "       'Dist_Above_01KM':0, 'Dist_Below_09KM':0})\n",
    "df['Dist_Above_20KM'] = df.dstm.map({'Dist_Above_100KM':0, 'Dist_Above_20KM':1, 'Dist_Above_60KM':0,\n",
    "       'Dist_Above_10KM':0, 'Dist_Above_80KM':0, 'Dist_Above_40KM':0,\n",
    "       'Dist_Above_06KM':0, 'Dist_Above_08KM':0, 'Dist_Below_01KM':0,\n",
    "       'Dist_Above_01KM':0, 'Dist_Below_09KM':0})\n",
    "df['Dist_Above_60KM'] = df.dstm.map({'Dist_Above_100KM':0, 'Dist_Above_20KM':0, 'Dist_Above_60KM':1,\n",
    "       'Dist_Above_10KM':0, 'Dist_Above_80KM':0, 'Dist_Above_40KM':0,\n",
    "       'Dist_Above_06KM':0, 'Dist_Above_08KM':0, 'Dist_Below_01KM':0,\n",
    "       'Dist_Above_01KM':0, 'Dist_Below_09KM':0})\n",
    "df['Dist_Above_10KM'] = df.dstm.map({'Dist_Above_100KM':0, 'Dist_Above_20KM':0, 'Dist_Above_60KM':0,\n",
    "       'Dist_Above_10KM':1, 'Dist_Above_80KM':0, 'Dist_Above_40KM':0,\n",
    "       'Dist_Above_06KM':0, 'Dist_Above_08KM':0, 'Dist_Below_01KM':0,\n",
    "       'Dist_Above_01KM':0, 'Dist_Below_09KM':0})\n",
    "df['Dist_Above_80KM'] = df.dstm.map({'Dist_Above_100KM':0, 'Dist_Above_20KM':0, 'Dist_Above_60KM':0,\n",
    "       'Dist_Above_10KM':0, 'Dist_Above_80KM':1, 'Dist_Above_40KM':0,\n",
    "       'Dist_Above_06KM':0, 'Dist_Above_08KM':0, 'Dist_Below_01KM':0,\n",
    "       'Dist_Above_01KM':0, 'Dist_Below_09KM':0})\n",
    "df['Dist_Above_40KM'] = df.dstm.map({'Dist_Above_100KM':0, 'Dist_Above_20KM':0, 'Dist_Above_60KM':0,\n",
    "       'Dist_Above_10KM':0, 'Dist_Above_80KM':0, 'Dist_Above_40KM':1,\n",
    "       'Dist_Above_06KM':0, 'Dist_Above_08KM':0, 'Dist_Below_01KM':0,\n",
    "       'Dist_Above_01KM':0, 'Dist_Below_09KM':0})\n"
   ]
  },
  {
   "cell_type": "code",
   "execution_count": 90,
   "metadata": {},
   "outputs": [],
   "source": [
    "df['Dist_Above_06KM'] = df.dstm.map({'Dist_Above_100KM':0, 'Dist_Above_20KM':0, 'Dist_Above_60KM':0,\n",
    "       'Dist_Above_10KM':0, 'Dist_Above_80KM':0, 'Dist_Above_40KM':0,\n",
    "       'Dist_Above_06KM':1, 'Dist_Above_08KM':0, 'Dist_Below_01KM':0,\n",
    "       'Dist_Above_01KM':0, 'Dist_Below_09KM':0})\n",
    "df['Dist_Above_08KM'] = df.dstm.map({'Dist_Above_100KM':0, 'Dist_Above_20KM':0, 'Dist_Above_60KM':0,\n",
    "       'Dist_Above_10KM':0, 'Dist_Above_80KM':0, 'Dist_Above_40KM':0,\n",
    "       'Dist_Above_06KM':0, 'Dist_Above_08KM':1, 'Dist_Below_01KM':0,\n",
    "       'Dist_Above_01KM':0, 'Dist_Below_09KM':0})\n",
    "df['Dist_Below_01KM'] = df.dstm.map({'Dist_Above_100KM':0, 'Dist_Above_20KM':0, 'Dist_Above_60KM':0,\n",
    "       'Dist_Above_10KM':0, 'Dist_Above_80KM':0, 'Dist_Above_40KM':0,\n",
    "       'Dist_Above_06KM':0, 'Dist_Above_08KM':0, 'Dist_Below_01KM':1,\n",
    "       'Dist_Above_01KM':0, 'Dist_Below_09KM':0})"
   ]
  },
  {
   "cell_type": "code",
   "execution_count": 91,
   "metadata": {},
   "outputs": [],
   "source": [
    "df['Dist_Above_01KM'] = df.dstm.map({'Dist_Above_100KM':0, 'Dist_Above_20KM':0, 'Dist_Above_60KM':0,\n",
    "       'Dist_Above_10KM':0, 'Dist_Above_80KM':0, 'Dist_Above_40KM':0,\n",
    "       'Dist_Above_06KM':0, 'Dist_Above_08KM':0, 'Dist_Below_01KM':0,\n",
    "       'Dist_Above_01KM':1, 'Dist_Below_09KM':0})\n",
    "df['Dist_Below_09KM'] = df.dstm.map({'Dist_Above_100KM':0, 'Dist_Above_20KM':0, 'Dist_Above_60KM':0,\n",
    "       'Dist_Above_10KM':0, 'Dist_Above_80KM':0, 'Dist_Above_40KM':0,\n",
    "       'Dist_Above_06KM':0, 'Dist_Above_08KM':0, 'Dist_Below_01KM':0,\n",
    "       'Dist_Above_01KM':0, 'Dist_Below_09KM':1})"
   ]
  },
  {
   "cell_type": "code",
   "execution_count": 92,
   "metadata": {},
   "outputs": [],
   "source": [
    "del df['dstm']"
   ]
  },
  {
   "cell_type": "code",
   "execution_count": 93,
   "metadata": {},
   "outputs": [
    {
     "data": {
      "text/plain": [
       "array(['Karapakkam', 'Anna_Nagar', 'Adyar', 'Velachery', 'Chrompet',\n",
       "       'KK_Nagar', 'T_Nagar'], dtype=object)"
      ]
     },
     "execution_count": 93,
     "metadata": {},
     "output_type": "execute_result"
    }
   ],
   "source": [
    "df['places'].unique()"
   ]
  },
  {
   "cell_type": "code",
   "execution_count": 94,
   "metadata": {},
   "outputs": [],
   "source": [
    "df['Karapakkam'] = df.places.map({'Karapakkam':1, 'Anna_Nagar':0, 'Adyar':0, 'Velachery':0, 'Chrompet':0,\n",
    "       'KK_Nagar':0, 'T_Nagar':0})\n",
    "df['Anna_Nagar'] = df.places.map({'Karapakkam':0, 'Anna_Nagar':1, 'Adyar':0, 'Velachery':0, 'Chrompet':0,\n",
    "       'KK_Nagar':0, 'T_Nagar':0})\n",
    "df['Adyar'] = df.places.map({'Karapakkam':0, 'Anna_Nagar':0, 'Adyar':1, 'Velachery':0, 'Chrompet':0,\n",
    "       'KK_Nagar':0, 'T_Nagar':0})\n",
    "df['Velachery'] = df.places.map({'Karapakkam':0, 'Anna_Nagar':0, 'Adyar':0, 'Velachery':1, 'Chrompet':0,\n",
    "       'KK_Nagar':0, 'T_Nagar':0})\n",
    "df['Chrompet'] = df.places.map({'Karapakkam':0, 'Anna_Nagar':0, 'Adyar':0, 'Velachery':0, 'Chrompet':1,\n",
    "       'KK_Nagar':0, 'T_Nagar':0})\n",
    "df['KK_Nagar'] = df.places.map({'Karapakkam':0, 'Anna_Nagar':0, 'Adyar':0, 'Velachery':0, 'Chrompet':0,\n",
    "       'KK_Nagar':1, 'T_Nagar':0})\n",
    "df['T_Nagar'] = df.places.map({'Karapakkam':0, 'Anna_Nagar':0, 'Adyar':0, 'Velachery':0, 'Chrompet':0,\n",
    "       'KK_Nagar':0, 'T_Nagar':1})\n"
   ]
  },
  {
   "cell_type": "code",
   "execution_count": 95,
   "metadata": {},
   "outputs": [],
   "source": [
    "del df['places']"
   ]
  },
  {
   "cell_type": "code",
   "execution_count": 96,
   "metadata": {},
   "outputs": [
    {
     "data": {
      "text/plain": [
       "Index(['INT_SQFT', 'N_BEDROOM', 'N_BATHROOM', 'N_ROOM', 'SALE_COND',\n",
       "       'PARK_FACIL', 'REG_FEE', 'COMMIS', 'SALES_PRICE', 'Dist_Above_100KM',\n",
       "       'Dist_Above_20KM', 'Dist_Above_60KM', 'Dist_Above_10KM',\n",
       "       'Dist_Above_80KM', 'Dist_Above_40KM', 'Dist_Above_06KM',\n",
       "       'Dist_Above_08KM', 'Dist_Below_01KM', 'Dist_Above_01KM',\n",
       "       'Dist_Below_09KM', 'Karapakkam', 'Anna_Nagar', 'Adyar', 'Velachery',\n",
       "       'Chrompet', 'KK_Nagar', 'T_Nagar'],\n",
       "      dtype='object')"
      ]
     },
     "execution_count": 96,
     "metadata": {},
     "output_type": "execute_result"
    }
   ],
   "source": [
    "df.columns"
   ]
  },
  {
   "cell_type": "code",
   "execution_count": 97,
   "metadata": {},
   "outputs": [
    {
     "data": {
      "text/plain": [
       "array([1., 2., 3., 4.])"
      ]
     },
     "execution_count": 97,
     "metadata": {},
     "output_type": "execute_result"
    }
   ],
   "source": [
    "df['N_BEDROOM'].unique()"
   ]
  },
  {
   "cell_type": "code",
   "execution_count": 98,
   "metadata": {},
   "outputs": [],
   "source": [
    "df['No_Bed_Room_01'] = df.N_BEDROOM.map({1.:1, 2.:0, 3.:0, 4.:0})\n",
    "df['No_Bed_Room_02'] = df.N_BEDROOM.map({1.:0, 2.:1, 3.:0, 4.:0})\n",
    "df['No_Bed_Room_03'] = df.N_BEDROOM.map({1.:0, 2.:0, 3.:1, 4.:0})\n",
    "df['No_Bed_Room_04'] = df.N_BEDROOM.map({1.:0, 2.:0, 3.:0, 4.:1})"
   ]
  },
  {
   "cell_type": "code",
   "execution_count": 99,
   "metadata": {},
   "outputs": [],
   "source": [
    "del df['N_BEDROOM']"
   ]
  },
  {
   "cell_type": "code",
   "execution_count": 100,
   "metadata": {},
   "outputs": [
    {
     "data": {
      "text/plain": [
       "array([1., 2.])"
      ]
     },
     "execution_count": 100,
     "metadata": {},
     "output_type": "execute_result"
    }
   ],
   "source": [
    "df['N_BATHROOM'].unique()"
   ]
  },
  {
   "cell_type": "code",
   "execution_count": 101,
   "metadata": {},
   "outputs": [],
   "source": [
    "df['No_Bath_Room_01'] = df.N_BATHROOM.map({1.:1, 2.:0})\n",
    "df['No_Bath_Room_02'] = df.N_BATHROOM.map({1.:0, 2.:1})"
   ]
  },
  {
   "cell_type": "code",
   "execution_count": 102,
   "metadata": {},
   "outputs": [],
   "source": [
    "del df['N_BATHROOM']"
   ]
  },
  {
   "cell_type": "code",
   "execution_count": 103,
   "metadata": {},
   "outputs": [],
   "source": [
    "del df['SALE_COND']\n",
    "del df['REG_FEE']\n",
    "del df['COMMIS']"
   ]
  },
  {
   "cell_type": "code",
   "execution_count": 104,
   "metadata": {},
   "outputs": [
    {
     "data": {
      "text/plain": [
       "array([ 7600000, 21717770, 13159200, ...,  5353000, 10818480,  8507000],\n",
       "      dtype=int64)"
      ]
     },
     "execution_count": 104,
     "metadata": {},
     "output_type": "execute_result"
    }
   ],
   "source": [
    "df['SALES_PRICE'].unique()"
   ]
  },
  {
   "cell_type": "code",
   "execution_count": 105,
   "metadata": {},
   "outputs": [
    {
     "data": {
      "text/plain": [
       "Index(['INT_SQFT', 'N_ROOM', 'PARK_FACIL', 'SALES_PRICE', 'Dist_Above_100KM',\n",
       "       'Dist_Above_20KM', 'Dist_Above_60KM', 'Dist_Above_10KM',\n",
       "       'Dist_Above_80KM', 'Dist_Above_40KM', 'Dist_Above_06KM',\n",
       "       'Dist_Above_08KM', 'Dist_Below_01KM', 'Dist_Above_01KM',\n",
       "       'Dist_Below_09KM', 'Karapakkam', 'Anna_Nagar', 'Adyar', 'Velachery',\n",
       "       'Chrompet', 'KK_Nagar', 'T_Nagar', 'No_Bed_Room_01', 'No_Bed_Room_02',\n",
       "       'No_Bed_Room_03', 'No_Bed_Room_04', 'No_Bath_Room_01',\n",
       "       'No_Bath_Room_02'],\n",
       "      dtype='object')"
      ]
     },
     "execution_count": 105,
     "metadata": {},
     "output_type": "execute_result"
    }
   ],
   "source": [
    "df.columns"
   ]
  },
  {
   "cell_type": "code",
   "execution_count": 106,
   "metadata": {},
   "outputs": [
    {
     "data": {
      "text/plain": [
       "array([1004, 1986,  909, ...,  688,  903,  598], dtype=int64)"
      ]
     },
     "execution_count": 106,
     "metadata": {},
     "output_type": "execute_result"
    }
   ],
   "source": [
    "df['INT_SQFT'].unique()"
   ]
  },
  {
   "cell_type": "code",
   "execution_count": 107,
   "metadata": {},
   "outputs": [],
   "source": [
    "df['sqft'] = df.INT_SQFT.map({1004.:'Above_900_SQFT', 1986.:'Above_1700_SQFT',  909.:'Above_900_SQFT', 1855.:'Above_1700_SQFT',\n",
    "                          1226.:'Above_1100_SQFT', 1220.:'Above_1100_SQFT', 1167.:'Above_1100_SQFT', 1847.:'Above_1700_SQFT',\n",
    "                          771.:'Above_700_SQFT',\n",
    "       1635.:'Above_1500_SQFT', 1203.:'Above_1100_SQFT', 1054.:'Above_900_SQFT', 1196.:'Above_1100_SQFT', \n",
    "                              1056.:'Above_900_SQFT',\n",
    "                          1865.:'Above_1700_SQFT', 1639.:'Above_1500_SQFT',  796.:'Above_700_SQFT', 1136.:'Above_1100_SQFT',\n",
    "       1902.:'Above_1700_SQFT', 1069.:'Above_900_SQFT',  931.:'Above_900_SQFT', 2010.:'Above_2000_SQFT', \n",
    "                              1074.:'Above_900_SQFT',\n",
    "                          1972.:'Above_1700_SQFT', 1685.:'Above_1500_SQFT', 1130.:'Above_1100_SQFT', 1301.:'Above_1300_SQFT',\n",
    "        730.:'Above_700_SQFT', 1806.:'Above_1700_SQFT', 1981.:'Above_1700_SQFT',  868.:'Above_800_SQFT',\n",
    "                              1721.:'Above_1700_SQFT',\n",
    "                          1755.:'Above_1700_SQFT', 1709.:'Above_1700_SQFT', 2114.:'Above_2000_SQFT', 1648.:'Above_1500_SQFT',\n",
    "        856.:'Above_800_SQFT',  904.:'Above_900_SQFT', 1198.:'Above_1100_SQFT', 1290.:'Above_1100_SQFT',  507.:'Above_500_SQFT',\n",
    "                          2492.:'Above_2000_SQFT',  851.:'Above_800_SQFT', 1710.:'Above_1700_SQFT', 1412.:'Above_1300_SQFT',\n",
    "        \n",
    "        779.:'Above_700_SQFT', 1655.:'Above_1500_SQFT',  940.:'Above_900_SQFT', 1667.:'Above_1500_SQFT', 1926.:'Above_1700_SQFT',\n",
    "                          718.:'Above_700_SQFT',  545.:'Above_500_SQFT', 1249.:'Above_1100_SQFT', 1894.:'Above_1700_SQFT',\n",
    "       1469.:'Above_1300_SQFT',  916.:'Above_900_SQFT',  934.:'Above_900_SQFT', 1691.:'Above_1500_SQFT', \n",
    "                              1236.:'Above_1100_SQFT',\n",
    "                          1577.:'Above_1500_SQFT', 1915.:'Above_1700_SQFT', 1600.:'Above_1500_SQFT', 1579.:'Above_1500_SQFT',\n",
    "       1260.:'Above_1100_SQFT', 1021.:'Above_900_SQFT', 2174.:'Above_2000_SQFT',  668.:'Above_600_SQFT', 1724.:'Above_1700_SQFT',\n",
    "                          890.:'Above_800_SQFT', 1218.:'Above_1100_SQFT', 1792.:'Above_1700_SQFT', 1378.:'Above_1300_SQFT',\n",
    "        898.:'Above_800_SQFT', 1928.:'Above_1700_SQFT', 1233.:'Above_1100_SQFT', 1618.:'Above_1500_SQFT',\n",
    "                              627.:'Above_500_SQFT',\n",
    "                          1563.:'Above_1500_SQFT', 1693.:'Above_1500_SQFT', 1522.:'Above_1500_SQFT', 1090.:'Above_900_SQFT',\n",
    "       1687.:'Above_1500_SQFT',  692.:'Above_500_SQFT', 1518.:'Above_1500_SQFT', 1025.:'Above_1000_SQFT', 2170.:'Above_2000_SQFT',\n",
    "                          969.:'Above_900_SQFT', 1546.:'Above_1500_SQFT', 1659.:'Above_1500_SQFT',  755.:'Above_700_SQFT',\n",
    "       1182.:'Above_1100_SQFT',  735.:'Above_700_SQFT', 1089.:'Above_900_SQFT', 1534.:'Above_1500_SQFT', \n",
    "                              1622.:'Above_1500_SQFT',\n",
    "                          2198.:'Above_2000_SQFT', 1293.:'Above_1100_SQFT', 1641.:'Above_1500_SQFT', 1950.:'Above_1700_SQFT',\n",
    "       1245.:'Above_1100_SQFT',  905.:'Above_900_SQFT', 1496.:'Above_1300_SQFT', 1892.:'Above_1700_SQFT', 1517.:'Above_1500_SQFT',\n",
    "                          1092.:'Above_1000_SQFT',  821.:'Above_800_SQFT', 1694.:'Above_1500_SQFT',\n",
    "                              1809.:'Above_1700_SQFT',\n",
    "       1401.:'Above_1300_SQFT', 1470.:'Above_1300_SQFT',  798.:'Above_700_SQFT',  764.:'Above_700_SQFT',\n",
    "                              1135.:'Above_1100_SQFT',\n",
    "                          939.:'Above_900_SQFT', 1586.:'Above_1500_SQFT', 1973.:'Above_1700_SQFT', 1023.:'Above_900_SQFT',\n",
    "        884.:'Above_800_SQFT', 1640.:'Above_1500_SQFT',  622.:'Above_500_SQFT', 1880.:'Above_1700_SQFT',\n",
    "                              2413.:'Above_2000_SQFT', \n",
    "                          1649.:'Above_1500_SQFT', 1729.:'Above_1700_SQFT',  711.:'Above_700_SQFT', \n",
    "                          885.:'Above_800_SQFT',\n",
    "       1688.:'Above_1500_SQFT',  926.:'Above_900_SQFT', 1686.:'Above_1500_SQFT', 1344.:'Above_1300_SQFT',\n",
    "                          1437.:'Above_1300_SQFT', 1081.:'Above_900_SQFT', 1352.:'Above_1300_SQFT', 1758.:'Above_1700_SQFT',\n",
    "                          607.:'Above_500_SQFT',\n",
    "       2139.:'Above_2000_SQFT', 1488.:'Above_1300_SQFT', 1645.:'Above_1500_SQFT',  950.:'Above_900_SQFT',  928.:'Above_900_SQFT',\n",
    "                          1873.:'Above_1700_SQFT',  721.:'Above_700_SQFT', 1190.:'Above_1100_SQFT', 1593.:'Above_1500_SQFT',\n",
    "        786.:'Above_700_SQFT', 1195.:'Above_1100_SQFT', 1906.:'Above_1700_SQFT',  656.:'Above_500_SQFT',  727.:'Above_700_SQFT',\n",
    "                          1898.:'Above_1700_SQFT', 1698.:'Above_1500_SQFT', 1481.:'Above_1300_SQFT', 1506.:'Above_1500_SQFT',\n",
    "       1020.:'Above_900_SQFT',  889.:'Above_800_SQFT', 1015.:'Above_900_SQFT', 1682.:'Above_1500_SQFT',  869.:'Above_800_SQFT',\n",
    "                          1445.:'Above_1300_SQFT', 1919.:'Above_1700_SQFT', 1243.:'Above_1100_SQFT',\n",
    "                          857.:'Above_800_SQFT',\n",
    "       1055.:'Above_900_SQFT', 1778.:'Above_1700_SQFT', 2203.:'Above_2000_SQFT',  613.:'Above_500_SQFT', 1489.:'Above_1300_SQFT',\n",
    "                          795.:'Above_700_SQFT', 1909.:'Above_1700_SQFT', 1252.:'Above_1100_SQFT', 1077.:'Above_900_SQFT',\n",
    "       1524.:'Above_1500_SQFT', 1049.:'Above_900_SQFT', 1780.:'Above_1700_SQFT',  946.:'Above_900_SQFT',  906.:'Above_900_SQFT', \n",
    "                          2344.:'Above_2000_SQFT'})"
   ]
  },
  {
   "cell_type": "code",
   "execution_count": 108,
   "metadata": {},
   "outputs": [],
   "source": [
    "del df['INT_SQFT']"
   ]
  },
  {
   "cell_type": "code",
   "execution_count": 109,
   "metadata": {},
   "outputs": [],
   "source": [
    "df=df.dropna()"
   ]
  },
  {
   "cell_type": "code",
   "execution_count": 110,
   "metadata": {},
   "outputs": [
    {
     "data": {
      "text/plain": [
       "array(['Above_900_SQFT', 'Above_1700_SQFT', 'Above_1100_SQFT',\n",
       "       'Above_700_SQFT', 'Above_1500_SQFT', 'Above_2000_SQFT',\n",
       "       'Above_1300_SQFT', 'Above_800_SQFT', 'Above_500_SQFT',\n",
       "       'Above_600_SQFT', 'Above_1000_SQFT'], dtype=object)"
      ]
     },
     "execution_count": 110,
     "metadata": {},
     "output_type": "execute_result"
    }
   ],
   "source": [
    "df['sqft'].unique()"
   ]
  },
  {
   "cell_type": "code",
   "execution_count": 111,
   "metadata": {},
   "outputs": [],
   "source": [
    "df['Above_900_SQFT'] = df.sqft.map({'Above_900_SQFT':1, 'Above_1700_SQFT':0, 'Above_1100_SQFT':0,\n",
    "       'Above_700_SQFT':0, 'Above_1500_SQFT':0, 'Above_2000_SQFT':0,\n",
    "       'Above_1300_SQFT':0, 'Above_800_SQFT':0, 'Above_500_SQFT':0,\n",
    "       'Above_600_SQFT':0, 'Above_1000_SQFT':0})\n",
    "df['Above_1700_SQFT'] = df.sqft.map({'Above_900_SQFT':0, 'Above_1700_SQFT':1, 'Above_1100_SQFT':0,\n",
    "       'Above_700_SQFT':0, 'Above_1500_SQFT':0, 'Above_2000_SQFT':0,\n",
    "       'Above_1300_SQFT':0, 'Above_800_SQFT':0, 'Above_500_SQFT':0,\n",
    "       'Above_600_SQFT':0, 'Above_1000_SQFT':0})\n",
    "df['Above_1100_SQFT'] = df.sqft.map({'Above_900_SQFT':0, 'Above_1700_SQFT':0, 'Above_1100_SQFT':1,\n",
    "       'Above_700_SQFT':0, 'Above_1500_SQFT':0, 'Above_2000_SQFT':0,\n",
    "       'Above_1300_SQFT':0, 'Above_800_SQFT':0, 'Above_500_SQFT':0,\n",
    "       'Above_600_SQFT':0, 'Above_1000_SQFT':0})\n",
    "df['Above_700_SQFT'] = df.sqft.map({'Above_900_SQFT':0, 'Above_1700_SQFT':0, 'Above_1100_SQFT':0,\n",
    "       'Above_700_SQFT':1, 'Above_1500_SQFT':0, 'Above_2000_SQFT':0,\n",
    "       'Above_1300_SQFT':0, 'Above_800_SQFT':0, 'Above_500_SQFT':0,\n",
    "       'Above_600_SQFT':0, 'Above_1000_SQFT':0})\n",
    "df['Above_1500_SQFT'] = df.sqft.map({'Above_900_SQFT':0, 'Above_1700_SQFT':0, 'Above_1100_SQFT':0,\n",
    "       'Above_700_SQFT':0, 'Above_1500_SQFT':1, 'Above_2000_SQFT':0,\n",
    "       'Above_1300_SQFT':0, 'Above_800_SQFT':0, 'Above_500_SQFT':0,\n",
    "       'Above_600_SQFT':0, 'Above_1000_SQFT':0})\n",
    "df['Above_2000_SQFT'] = df.sqft.map({'Above_900_SQFT':0, 'Above_1700_SQFT':0, 'Above_1100_SQFT':0,\n",
    "       'Above_700_SQFT':0, 'Above_1500_SQFT':0, 'Above_2000_SQFT':1,\n",
    "       'Above_1300_SQFT':0, 'Above_800_SQFT':0, 'Above_500_SQFT':0,\n",
    "       'Above_600_SQFT':0, 'Above_1000_SQFT':0})"
   ]
  },
  {
   "cell_type": "code",
   "execution_count": 112,
   "metadata": {},
   "outputs": [],
   "source": [
    "df['Above_1300_SQFT'] = df.sqft.map({'Above_900_SQFT':0, 'Above_1700_SQFT':0, 'Above_1100_SQFT':0,\n",
    "       'Above_700_SQFT':0, 'Above_1500_SQFT':0, 'Above_2000_SQFT':0,\n",
    "       'Above_1300_SQFT':1, 'Above_800_SQFT':0, 'Above_500_SQFT':0,\n",
    "       'Above_600_SQFT':0, 'Above_1000_SQFT':0})\n",
    "df['Above_800_SQFT'] = df.sqft.map({'Above_900_SQFT':0, 'Above_1700_SQFT':0, 'Above_1100_SQFT':0,\n",
    "       'Above_700_SQFT':0, 'Above_1500_SQFT':0, 'Above_2000_SQFT':0,\n",
    "       'Above_1300_SQFT':0, 'Above_800_SQFT':1, 'Above_500_SQFT':0,\n",
    "       'Above_600_SQFT':0, 'Above_1000_SQFT':0})\n",
    "df['Above_500_SQFT'] = df.sqft.map({'Above_900_SQFT':0, 'Above_1700_SQFT':0, 'Above_1100_SQFT':0,\n",
    "       'Above_700_SQFT':0, 'Above_1500_SQFT':0, 'Above_2000_SQFT':0,\n",
    "       'Above_1300_SQFT':0, 'Above_800_SQFT':0, 'Above_500_SQFT':1,\n",
    "       'Above_600_SQFT':0, 'Above_1000_SQFT':0})\n",
    "df['Above_600_SQFT'] = df.sqft.map({'Above_900_SQFT':0, 'Above_1700_SQFT':0, 'Above_1100_SQFT':0,\n",
    "       'Above_700_SQFT':0, 'Above_1500_SQFT':0, 'Above_2000_SQFT':0,\n",
    "       'Above_1300_SQFT':0, 'Above_800_SQFT':0, 'Above_500_SQFT':0,\n",
    "       'Above_600_SQFT':1, 'Above_1000_SQFT':0})\n",
    "df['Above_1000_SQFT'] = df.sqft.map({'Above_900_SQFT':0, 'Above_1700_SQFT':0, 'Above_1100_SQFT':0,\n",
    "       'Above_700_SQFT':0, 'Above_1500_SQFT':0, 'Above_2000_SQFT':0,\n",
    "       'Above_1300_SQFT':0, 'Above_800_SQFT':0, 'Above_500_SQFT':0,\n",
    "       'Above_600_SQFT':0, 'Above_1000_SQFT':1})\n"
   ]
  },
  {
   "cell_type": "code",
   "execution_count": 113,
   "metadata": {},
   "outputs": [],
   "source": [
    "del df['sqft']"
   ]
  },
  {
   "cell_type": "code",
   "execution_count": 114,
   "metadata": {},
   "outputs": [],
   "source": [
    "del df['N_ROOM']"
   ]
  },
  {
   "cell_type": "code",
   "execution_count": 115,
   "metadata": {},
   "outputs": [
    {
     "data": {
      "text/plain": [
       "array(['Yes', 'No'], dtype=object)"
      ]
     },
     "execution_count": 115,
     "metadata": {},
     "output_type": "execute_result"
    }
   ],
   "source": [
    "df['PARK_FACIL'].unique()"
   ]
  },
  {
   "cell_type": "code",
   "execution_count": 116,
   "metadata": {},
   "outputs": [],
   "source": [
    "df['Park_Facility_Yes'] = df.PARK_FACIL.map({'Yes':1, 'No':0, 'Noo':0})\n",
    "df['Park_Facility_No'] = df.PARK_FACIL.map({'Yes':0, 'No':1, 'Noo':1})"
   ]
  },
  {
   "cell_type": "code",
   "execution_count": 117,
   "metadata": {},
   "outputs": [],
   "source": [
    "del df['PARK_FACIL']"
   ]
  },
  {
   "cell_type": "code",
   "execution_count": 118,
   "metadata": {},
   "outputs": [
    {
     "data": {
      "text/plain": [
       "array([ 7600000, 21717770, 13159200,  9630290,  7406250, 12394750,\n",
       "        8488790, 16800250,  8308970,  8083650, 14938000,  9449730,\n",
       "        8774370,  9386490, 15499680,  8656000, 10912550,  8287550,\n",
       "       21203240, 10905530,  9185970, 10925400,  9627380, 13922760,\n",
       "       12601080, 13383350,  7939625,  8848285, 11338200, 12872430,\n",
       "        9042050, 14874380, 10222380, 12928590, 17564820,  4971250,\n",
       "        9170660, 10383420, 11601400,  8249260,  6944500,  7745000,\n",
       "        5728000, 18725520,  3572250, 20215970,  8379000,  5290635,\n",
       "       12548930,  5857750, 10729700, 17006780,  5570050,  3854375,\n",
       "        8594875, 13549250,  9480750,  5847520,  9710900,  9398750,\n",
       "        8806250, 12087330, 14175620, 11920820, 13364730,  6922975,\n",
       "       11673175, 13069740, 10283575,  8956480,  7187350, 12574850,\n",
       "       13906270,  9917500,  8629750, 11667050,  9817150,  9263050,\n",
       "        6587500,  9799360, 12801500, 17454510,  9832420, 12476770,\n",
       "       10381355, 17600240, 10934875, 12372160, 11248750, 14241140,\n",
       "       10160600, 13539080, 10727750,  9867055,  9478710,  9050200,\n",
       "        7904210, 13063450, 13584980, 13116050, 10012600, 12105920,\n",
       "        4918375,  7703200,  8569080, 12146620, 11671620, 14915900,\n",
       "       13547790,  8213040,  7304000, 10390900, 19206870,  9965375,\n",
       "        7207000,  9070550,  5670200,  9253200,  4294000, 14316000,\n",
       "       23307000,  9735150, 11336400, 17701600,  6572900, 13423020,\n",
       "       13122040, 18939100, 12803570,  8050270,  7194600, 11412700,\n",
       "       12035355,  6877000, 10346400, 10809500, 10200600,  6190150,\n",
       "        6507250, 11350400, 19285540,  5856625, 12472000,  8441900,\n",
       "        7579320,  9759000, 12423800, 15495760, 11022270,  7605550,\n",
       "        7967750,  8946800,  9244820,  9821600, 15852740,  8757635,\n",
       "        8415990,  9935595, 16617860, 12412050, 22630540,  9901500,\n",
       "       10449910,  7948600,  9098680,  8342850, 18662350,  8172630,\n",
       "        5856500, 14704160, 13360440,  4928250,  7315125, 10998320,\n",
       "        3936375,  9201770, 17891240,  5144500,  8007250,  8479250,\n",
       "       10129160,  9482200,  9846750,  8675820, 10262450,  8671050,\n",
       "       11165550,  9464800, 18849880, 20996200, 11527430, 12575010,\n",
       "        7146890, 11224620, 10530200, 13669670, 11410310,  8762820,\n",
       "        8282500,  7410200, 12925550, 15495150, 10629750, 11104320,\n",
       "        6863000, 11462310, 15664740, 19817860, 19609810,  9314050,\n",
       "        6922750,  8585715,  9675500, 10094840, 11992650, 10342830,\n",
       "        8476180,  7603630,  7520800, 11266200, 10509200,  9433250,\n",
       "       10885120,  5198500,  8197980,  6619875, 13938120,  7993125,\n",
       "       10000930, 12611320, 14310420, 19632920,  8699125,  3339000,\n",
       "       13140580,  4886000,  8414875, 11492450,  8750680, 10763000,\n",
       "       10599000,  9104275,  7319800,  6354550, 14017800,  6678470,\n",
       "        6193485,  9668900,  7831830,  8783500,  8340500, 19704720,\n",
       "        9632875, 12198380,  6687375,  8850660, 10595700, 15074080,\n",
       "       10474605, 10581870, 16929800,  7740080,  7742000,  9341250,\n",
       "       12872810,  8275800, 12313350,  8452080,  8646380,  8576110,\n",
       "        8461500,  5613270,  7151680, 11308830, 11677750,  8908220,\n",
       "        6789000,  8529780,  6231125, 13840180, 20586630, 20181980,\n",
       "       10978140, 18299980, 12370100,  5232500, 14638800, 18803650,\n",
       "        9859360, 16602700, 12337540, 20034510,  8700500, 10021800,\n",
       "       12239160, 18855250,  6408750,  7016840,  6597000,  8310590,\n",
       "       10210500,  5383105, 11269470,  5314000, 11584500, 11526700,\n",
       "        6900800, 12906800,  9575120,  8047500, 16967540, 11168750,\n",
       "       20697180,  7310375,  7506500, 11873250, 20496430,  6453250,\n",
       "       11157225, 10671450, 11110000,  6997850,  7738700, 12501600,\n",
       "        9341900,  9656600,  8060000, 12032720, 13076450, 11359500,\n",
       "       11673500,  9338270, 10678140,  9570490,  8820750, 10259180,\n",
       "       20020970, 10502000, 11407570, 12680410,  6930720, 18963740,\n",
       "        9218040,  9304770, 16025310,  7479000,  9943840,  3867250,\n",
       "        9729900,  6972000,  7853250, 10759755,  6387750,  5275500,\n",
       "        6624750,  5829000, 18439310, 12038750, 13957390,  9234130,\n",
       "        8254270, 11691860, 14771930, 14565090,  9388710,  9686030,\n",
       "       15825560,  6824750,  9667200, 13743040,  7099500,  5333875,\n",
       "        4905000,  8827940,  9657300,  9038645, 13160800, 11270700,\n",
       "       14927280, 12924300,  8194735, 13800760, 13144750,  9623750,\n",
       "       10363250, 11412420,  9658000, 12261610,  7549650, 10039090,\n",
       "        7036460, 13245480,  6495250, 18686820, 12046000,  7382320,\n",
       "       12813600, 22918500,  9400830,  5821000,  9626920,  3602875,\n",
       "        6993500,  7222220,  9648350, 22027780, 15381325,  8319250,\n",
       "       11991960, 15461440, 10006870, 11680440,  9622550, 22712170,\n",
       "        6646210, 10088000, 13991160, 13663850,  6192250, 13839120,\n",
       "        9047980,  8813065, 13753510, 11855350, 10508500,  8802320,\n",
       "        9374280, 12412600, 15389035,  9563000,  9468300, 11157010,\n",
       "        9222850, 13176350, 13486940,  7589010, 11040310, 13640240,\n",
       "        8545605, 20823790, 13205875, 13112560, 13776050, 14686600,\n",
       "        9379310, 12430300, 11139700, 10620750,  4678720,  5500000,\n",
       "       11217570, 13245700, 13099400, 10970740, 10169750,  7904525,\n",
       "       13822920, 11939850,  4876500,  9064800,  7377300, 11277710,\n",
       "       21789460, 15494260,  8387750,  8414700, 20562600,  8732470,\n",
       "       13168605,  6997335,  7688000, 10958500,  8871195,  8917740,\n",
       "       11295000,  7774580, 10643500,  8454860, 13941590,  9837875,\n",
       "       10882430,  5326500,  9790040,  4661125,  9464500, 16935440,\n",
       "        5434250, 20461220,  5587150,  8438625,  7883050,  3219750,\n",
       "        9722500,  6895000,  9555750, 10455360,  5100500, 10374040,\n",
       "        6658000,  8852085,  9771780, 12537750,  6472305, 13081070,\n",
       "       21008600, 14546520,  9852290, 10241290, 13699490, 10190000,\n",
       "        8989620, 12285100, 11402380,  7135990, 10313310, 14025290,\n",
       "       10477750,  8687220, 10503250,  9059580, 14554600,  9641790,\n",
       "       16440220, 13730250, 11620880, 11859315,  8227170, 13858750,\n",
       "       13053100,  9550950, 13457270,  8424650,  8197450,  6609500,\n",
       "        7643550,  8298710, 11076280,  9292400,  5798500,  8427650,\n",
       "       14263020,  5323250,  9347000, 11398650, 10038630, 11544130,\n",
       "        8165230, 13456660,  7828105, 12755110,  4591875, 13264000,\n",
       "        6235500,  8458500,  7180750, 12763700, 19839060, 12990820,\n",
       "       11062000,  8992520, 14737720, 14615700, 13495120,  9779750,\n",
       "       12781400,  9446200,  4485750, 10560230,  5561250, 18055240,\n",
       "       10578000,  9801720, 12952940,  9477620, 11697500, 10295890,\n",
       "        6350490, 10978335, 12787100, 20600300,  9789500, 10282630,\n",
       "        5844625,  9387330, 12605100, 21006920,  9812105, 10908570,\n",
       "        8358575, 14993670, 18132160,  4188750, 10972000, 15189120,\n",
       "        9940500,  9975260,  6034000,  9168900, 14168750, 12759490,\n",
       "       12310870,  5164250, 10013250, 10199620, 19124310, 13476000,\n",
       "        8799000,  9020650,  8847850, 10010430,  5488250,  9654890,\n",
       "        6146755,  9012665, 11475260, 11097000,  4788000, 13891800,\n",
       "       16444460, 13531290,  8852535, 10706200,  8578170,  8540670,\n",
       "        8254510, 14868160, 18179660,  9283610, 16243160,  5412500,\n",
       "        8168160, 14034060, 11119250, 12755280, 12090050,  9191250,\n",
       "        8394250,  6253350, 11395530,  9449050, 10771100, 11327800,\n",
       "        6700125,  8394815,  9695260,  8229000,  8784250,  7789175,\n",
       "        9833380,  9635600,  6382640,  9159770,  7344540,  8171850,\n",
       "       12555150, 11469920, 14684750,  5850985,  7260750, 10842880,\n",
       "       10146980,  9815400,  5664050, 15023650,  7919880,  9893805,\n",
       "       14290850,  7104320,  7929750, 13174060], dtype=int64)"
      ]
     },
     "execution_count": 118,
     "metadata": {},
     "output_type": "execute_result"
    }
   ],
   "source": [
    "df['SALES_PRICE'].unique()"
   ]
  },
  {
   "cell_type": "code",
   "execution_count": 119,
   "metadata": {},
   "outputs": [
    {
     "data": {
      "text/html": [
       "<div>\n",
       "<style scoped>\n",
       "    .dataframe tbody tr th:only-of-type {\n",
       "        vertical-align: middle;\n",
       "    }\n",
       "\n",
       "    .dataframe tbody tr th {\n",
       "        vertical-align: top;\n",
       "    }\n",
       "\n",
       "    .dataframe thead th {\n",
       "        text-align: right;\n",
       "    }\n",
       "</style>\n",
       "<table border=\"1\" class=\"dataframe\">\n",
       "  <thead>\n",
       "    <tr style=\"text-align: right;\">\n",
       "      <th></th>\n",
       "      <th>SALES_PRICE</th>\n",
       "      <th>Dist_Above_100KM</th>\n",
       "      <th>Dist_Above_20KM</th>\n",
       "      <th>Dist_Above_60KM</th>\n",
       "      <th>Dist_Above_10KM</th>\n",
       "      <th>Dist_Above_80KM</th>\n",
       "      <th>Dist_Above_40KM</th>\n",
       "      <th>Dist_Above_06KM</th>\n",
       "      <th>Dist_Above_08KM</th>\n",
       "      <th>Dist_Below_01KM</th>\n",
       "      <th>...</th>\n",
       "      <th>Above_700_SQFT</th>\n",
       "      <th>Above_1500_SQFT</th>\n",
       "      <th>Above_2000_SQFT</th>\n",
       "      <th>Above_1300_SQFT</th>\n",
       "      <th>Above_800_SQFT</th>\n",
       "      <th>Above_500_SQFT</th>\n",
       "      <th>Above_600_SQFT</th>\n",
       "      <th>Above_1000_SQFT</th>\n",
       "      <th>Park_Facility_Yes</th>\n",
       "      <th>Park_Facility_No</th>\n",
       "    </tr>\n",
       "  </thead>\n",
       "  <tbody>\n",
       "    <tr>\n",
       "      <th>0</th>\n",
       "      <td>7600000</td>\n",
       "      <td>1</td>\n",
       "      <td>0</td>\n",
       "      <td>0</td>\n",
       "      <td>0</td>\n",
       "      <td>0</td>\n",
       "      <td>0</td>\n",
       "      <td>0</td>\n",
       "      <td>0</td>\n",
       "      <td>0</td>\n",
       "      <td>...</td>\n",
       "      <td>0</td>\n",
       "      <td>0</td>\n",
       "      <td>0</td>\n",
       "      <td>0</td>\n",
       "      <td>0</td>\n",
       "      <td>0</td>\n",
       "      <td>0</td>\n",
       "      <td>0</td>\n",
       "      <td>1</td>\n",
       "      <td>0</td>\n",
       "    </tr>\n",
       "    <tr>\n",
       "      <th>1</th>\n",
       "      <td>21717770</td>\n",
       "      <td>0</td>\n",
       "      <td>1</td>\n",
       "      <td>0</td>\n",
       "      <td>0</td>\n",
       "      <td>0</td>\n",
       "      <td>0</td>\n",
       "      <td>0</td>\n",
       "      <td>0</td>\n",
       "      <td>0</td>\n",
       "      <td>...</td>\n",
       "      <td>0</td>\n",
       "      <td>0</td>\n",
       "      <td>0</td>\n",
       "      <td>0</td>\n",
       "      <td>0</td>\n",
       "      <td>0</td>\n",
       "      <td>0</td>\n",
       "      <td>0</td>\n",
       "      <td>0</td>\n",
       "      <td>1</td>\n",
       "    </tr>\n",
       "    <tr>\n",
       "      <th>2</th>\n",
       "      <td>13159200</td>\n",
       "      <td>0</td>\n",
       "      <td>0</td>\n",
       "      <td>1</td>\n",
       "      <td>0</td>\n",
       "      <td>0</td>\n",
       "      <td>0</td>\n",
       "      <td>0</td>\n",
       "      <td>0</td>\n",
       "      <td>0</td>\n",
       "      <td>...</td>\n",
       "      <td>0</td>\n",
       "      <td>0</td>\n",
       "      <td>0</td>\n",
       "      <td>0</td>\n",
       "      <td>0</td>\n",
       "      <td>0</td>\n",
       "      <td>0</td>\n",
       "      <td>0</td>\n",
       "      <td>1</td>\n",
       "      <td>0</td>\n",
       "    </tr>\n",
       "    <tr>\n",
       "      <th>3</th>\n",
       "      <td>9630290</td>\n",
       "      <td>0</td>\n",
       "      <td>0</td>\n",
       "      <td>0</td>\n",
       "      <td>1</td>\n",
       "      <td>0</td>\n",
       "      <td>0</td>\n",
       "      <td>0</td>\n",
       "      <td>0</td>\n",
       "      <td>0</td>\n",
       "      <td>...</td>\n",
       "      <td>0</td>\n",
       "      <td>0</td>\n",
       "      <td>0</td>\n",
       "      <td>0</td>\n",
       "      <td>0</td>\n",
       "      <td>0</td>\n",
       "      <td>0</td>\n",
       "      <td>0</td>\n",
       "      <td>0</td>\n",
       "      <td>1</td>\n",
       "    </tr>\n",
       "    <tr>\n",
       "      <th>4</th>\n",
       "      <td>7406250</td>\n",
       "      <td>0</td>\n",
       "      <td>0</td>\n",
       "      <td>0</td>\n",
       "      <td>0</td>\n",
       "      <td>1</td>\n",
       "      <td>0</td>\n",
       "      <td>0</td>\n",
       "      <td>0</td>\n",
       "      <td>0</td>\n",
       "      <td>...</td>\n",
       "      <td>0</td>\n",
       "      <td>0</td>\n",
       "      <td>0</td>\n",
       "      <td>0</td>\n",
       "      <td>0</td>\n",
       "      <td>0</td>\n",
       "      <td>0</td>\n",
       "      <td>0</td>\n",
       "      <td>1</td>\n",
       "      <td>0</td>\n",
       "    </tr>\n",
       "  </tbody>\n",
       "</table>\n",
       "<p>5 rows × 38 columns</p>\n",
       "</div>"
      ],
      "text/plain": [
       "   SALES_PRICE  Dist_Above_100KM  Dist_Above_20KM  Dist_Above_60KM  \\\n",
       "0      7600000                 1                0                0   \n",
       "1     21717770                 0                1                0   \n",
       "2     13159200                 0                0                1   \n",
       "3      9630290                 0                0                0   \n",
       "4      7406250                 0                0                0   \n",
       "\n",
       "   Dist_Above_10KM  Dist_Above_80KM  Dist_Above_40KM  Dist_Above_06KM  \\\n",
       "0                0                0                0                0   \n",
       "1                0                0                0                0   \n",
       "2                0                0                0                0   \n",
       "3                1                0                0                0   \n",
       "4                0                1                0                0   \n",
       "\n",
       "   Dist_Above_08KM  Dist_Below_01KM  ...  Above_700_SQFT  Above_1500_SQFT  \\\n",
       "0                0                0  ...               0                0   \n",
       "1                0                0  ...               0                0   \n",
       "2                0                0  ...               0                0   \n",
       "3                0                0  ...               0                0   \n",
       "4                0                0  ...               0                0   \n",
       "\n",
       "   Above_2000_SQFT  Above_1300_SQFT  Above_800_SQFT  Above_500_SQFT  \\\n",
       "0                0                0               0               0   \n",
       "1                0                0               0               0   \n",
       "2                0                0               0               0   \n",
       "3                0                0               0               0   \n",
       "4                0                0               0               0   \n",
       "\n",
       "   Above_600_SQFT  Above_1000_SQFT  Park_Facility_Yes  Park_Facility_No  \n",
       "0               0                0                  1                 0  \n",
       "1               0                0                  0                 1  \n",
       "2               0                0                  1                 0  \n",
       "3               0                0                  0                 1  \n",
       "4               0                0                  1                 0  \n",
       "\n",
       "[5 rows x 38 columns]"
      ]
     },
     "execution_count": 119,
     "metadata": {},
     "output_type": "execute_result"
    }
   ],
   "source": [
    "df.head()"
   ]
  },
  {
   "cell_type": "code",
   "execution_count": 120,
   "metadata": {},
   "outputs": [
    {
     "data": {
      "text/plain": [
       "Index(['SALES_PRICE', 'Dist_Above_100KM', 'Dist_Above_20KM', 'Dist_Above_60KM',\n",
       "       'Dist_Above_10KM', 'Dist_Above_80KM', 'Dist_Above_40KM',\n",
       "       'Dist_Above_06KM', 'Dist_Above_08KM', 'Dist_Below_01KM',\n",
       "       'Dist_Above_01KM', 'Dist_Below_09KM', 'Karapakkam', 'Anna_Nagar',\n",
       "       'Adyar', 'Velachery', 'Chrompet', 'KK_Nagar', 'T_Nagar',\n",
       "       'No_Bed_Room_01', 'No_Bed_Room_02', 'No_Bed_Room_03', 'No_Bed_Room_04',\n",
       "       'No_Bath_Room_01', 'No_Bath_Room_02', 'Above_900_SQFT',\n",
       "       'Above_1700_SQFT', 'Above_1100_SQFT', 'Above_700_SQFT',\n",
       "       'Above_1500_SQFT', 'Above_2000_SQFT', 'Above_1300_SQFT',\n",
       "       'Above_800_SQFT', 'Above_500_SQFT', 'Above_600_SQFT', 'Above_1000_SQFT',\n",
       "       'Park_Facility_Yes', 'Park_Facility_No'],\n",
       "      dtype='object')"
      ]
     },
     "execution_count": 120,
     "metadata": {},
     "output_type": "execute_result"
    }
   ],
   "source": [
    "df.columns"
   ]
  },
  {
   "cell_type": "code",
   "execution_count": 121,
   "metadata": {},
   "outputs": [],
   "source": [
    "l1=['Dist_Above_100KM', 'Dist_Above_20KM', 'Dist_Above_60KM',\n",
    "       'Dist_Above_10KM', 'Dist_Above_80KM', 'Dist_Above_40KM',\n",
    "       'Dist_Above_06KM', 'Dist_Above_08KM', 'Dist_Below_01KM',\n",
    "       'Dist_Above_01KM', 'Dist_Below_09KM']"
   ]
  },
  {
   "cell_type": "code",
   "execution_count": 122,
   "metadata": {},
   "outputs": [],
   "source": [
    "l2=['Karapakkam', 'Anna_Nagar','Adyar', 'Velachery', 'Chrompet', 'KK_Nagar', 'T_Nagar']"
   ]
  },
  {
   "cell_type": "code",
   "execution_count": 123,
   "metadata": {},
   "outputs": [],
   "source": [
    "l3=['Above_900_SQFT', 'Above_1700_SQFT', 'Above_1100_SQFT',\n",
    "       'Above_700_SQFT', 'Above_1500_SQFT', 'Above_2000_SQFT',\n",
    "       'Above_1300_SQFT', 'Above_800_SQFT', 'Above_500_SQFT', 'Above_600_SQFT',\n",
    "       'Above_1000_SQFT']"
   ]
  },
  {
   "cell_type": "code",
   "execution_count": 124,
   "metadata": {},
   "outputs": [],
   "source": [
    "l5=['Park_Facility_Yes', 'Park_Facility_No']"
   ]
  },
  {
   "cell_type": "code",
   "execution_count": 125,
   "metadata": {},
   "outputs": [],
   "source": [
    "l10=['No_Bed_Room_01', 'No_Bed_Room_02', 'No_Bed_Room_03', 'No_Bed_Room_04']"
   ]
  },
  {
   "cell_type": "code",
   "execution_count": 126,
   "metadata": {},
   "outputs": [],
   "source": [
    "l11=['No_Bath_Room_01', 'No_Bath_Room_02']"
   ]
  },
  {
   "cell_type": "code",
   "execution_count": 127,
   "metadata": {},
   "outputs": [],
   "source": [
    "l6=['Dist_Above_100KM', 'Dist_Above_20KM', 'Dist_Above_60KM',\n",
    "       'Dist_Above_10KM', 'Dist_Above_80KM', 'Dist_Above_40KM',\n",
    "       'Dist_Above_06KM', 'Dist_Above_08KM', 'Dist_Below_01KM',\n",
    "       'Dist_Above_01KM', 'Dist_Below_09KM','Above_900_SQFT', 'Above_1700_SQFT', 'Above_1100_SQFT',\n",
    "       'Above_700_SQFT', 'Above_1500_SQFT', 'Above_2000_SQFT',\n",
    "       'Above_1300_SQFT', 'Above_800_SQFT', 'Above_500_SQFT', 'Above_600_SQFT',\n",
    "       'Above_1000_SQFT','Park_Facility_Yes', 'Park_Facility_No','No_Bath_Room_01', 'No_Bath_Room_02',\n",
    "   'No_Bed_Room_01', 'No_Bed_Room_02', 'No_Bed_Room_03', 'No_Bed_Room_04','Karapakkam', 'Anna_Nagar','Adyar', 'Velachery', 'Chrompet', 'KK_Nagar', 'T_Nagar']"
   ]
  },
  {
   "cell_type": "code",
   "execution_count": 128,
   "metadata": {},
   "outputs": [
    {
     "data": {
      "text/plain": [
       "array([ 7600000, 21717770, 13159200,  9630290,  7406250, 12394750,\n",
       "        8488790, 16800250,  8308970,  8083650, 14938000,  9449730,\n",
       "        8774370,  9386490, 15499680,  8656000, 10912550,  8287550,\n",
       "       21203240, 10905530,  9185970, 10925400,  9627380, 13922760,\n",
       "       12601080, 13383350,  7939625,  8848285, 11338200, 12872430,\n",
       "        9042050, 14874380, 10222380, 12928590, 17564820,  4971250,\n",
       "        9170660, 10383420, 11601400,  8249260,  6944500,  7745000,\n",
       "        5728000, 18725520,  3572250, 20215970,  8379000,  5290635,\n",
       "       12548930,  5857750, 10729700, 17006780,  5570050,  3854375,\n",
       "        8594875, 13549250,  9480750,  5847520,  9710900,  9398750,\n",
       "        8806250, 12087330, 14175620, 11920820, 13364730,  6922975,\n",
       "       11673175, 13069740, 10283575,  8956480,  7187350, 12574850,\n",
       "       13906270,  9917500,  8629750, 11667050,  9817150,  9263050,\n",
       "        6587500,  9799360, 12801500, 17454510,  9832420, 12476770,\n",
       "       10381355, 17600240, 10934875, 12372160, 11248750, 14241140,\n",
       "       10160600, 13539080, 10727750,  9867055,  9478710,  9050200,\n",
       "        7904210, 13063450, 13584980, 13116050, 10012600, 12105920,\n",
       "        4918375,  7703200,  8569080, 12146620, 11671620, 14915900,\n",
       "       13547790,  8213040,  7304000, 10390900, 19206870,  9965375,\n",
       "        7207000,  9070550,  5670200,  9253200,  4294000, 14316000,\n",
       "       23307000,  9735150, 11336400, 17701600,  6572900, 13423020,\n",
       "       13122040, 18939100, 12803570,  8050270,  7194600, 11412700,\n",
       "       12035355,  6877000, 10346400, 10809500, 10200600,  6190150,\n",
       "        6507250, 11350400, 19285540,  5856625, 12472000,  8441900,\n",
       "        7579320,  9759000, 12423800, 15495760, 11022270,  7605550,\n",
       "        7967750,  8946800,  9244820,  9821600, 15852740,  8757635,\n",
       "        8415990,  9935595, 16617860, 12412050, 22630540,  9901500,\n",
       "       10449910,  7948600,  9098680,  8342850, 18662350,  8172630,\n",
       "        5856500, 14704160, 13360440,  4928250,  7315125, 10998320,\n",
       "        3936375,  9201770, 17891240,  5144500,  8007250,  8479250,\n",
       "       10129160,  9482200,  9846750,  8675820, 10262450,  8671050,\n",
       "       11165550,  9464800, 18849880, 20996200, 11527430, 12575010,\n",
       "        7146890, 11224620, 10530200, 13669670, 11410310,  8762820,\n",
       "        8282500,  7410200, 12925550, 15495150, 10629750, 11104320,\n",
       "        6863000, 11462310, 15664740, 19817860, 19609810,  9314050,\n",
       "        6922750,  8585715,  9675500, 10094840, 11992650, 10342830,\n",
       "        8476180,  7603630,  7520800, 11266200, 10509200,  9433250,\n",
       "       10885120,  5198500,  8197980,  6619875, 13938120,  7993125,\n",
       "       10000930, 12611320, 14310420, 19632920,  8699125,  3339000,\n",
       "       13140580,  4886000,  8414875, 11492450,  8750680, 10763000,\n",
       "       10599000,  9104275,  7319800,  6354550, 14017800,  6678470,\n",
       "        6193485,  9668900,  7831830,  8783500,  8340500, 19704720,\n",
       "        9632875, 12198380,  6687375,  8850660, 10595700, 15074080,\n",
       "       10474605, 10581870, 16929800,  7740080,  7742000,  9341250,\n",
       "       12872810,  8275800, 12313350,  8452080,  8646380,  8576110,\n",
       "        8461500,  5613270,  7151680, 11308830, 11677750,  8908220,\n",
       "        6789000,  8529780,  6231125, 13840180, 20586630, 20181980,\n",
       "       10978140, 18299980, 12370100,  5232500, 14638800, 18803650,\n",
       "        9859360, 16602700, 12337540, 20034510,  8700500, 10021800,\n",
       "       12239160, 18855250,  6408750,  7016840,  6597000,  8310590,\n",
       "       10210500,  5383105, 11269470,  5314000, 11584500, 11526700,\n",
       "        6900800, 12906800,  9575120,  8047500, 16967540, 11168750,\n",
       "       20697180,  7310375,  7506500, 11873250, 20496430,  6453250,\n",
       "       11157225, 10671450, 11110000,  6997850,  7738700, 12501600,\n",
       "        9341900,  9656600,  8060000, 12032720, 13076450, 11359500,\n",
       "       11673500,  9338270, 10678140,  9570490,  8820750, 10259180,\n",
       "       20020970, 10502000, 11407570, 12680410,  6930720, 18963740,\n",
       "        9218040,  9304770, 16025310,  7479000,  9943840,  3867250,\n",
       "        9729900,  6972000,  7853250, 10759755,  6387750,  5275500,\n",
       "        6624750,  5829000, 18439310, 12038750, 13957390,  9234130,\n",
       "        8254270, 11691860, 14771930, 14565090,  9388710,  9686030,\n",
       "       15825560,  6824750,  9667200, 13743040,  7099500,  5333875,\n",
       "        4905000,  8827940,  9657300,  9038645, 13160800, 11270700,\n",
       "       14927280, 12924300,  8194735, 13800760, 13144750,  9623750,\n",
       "       10363250, 11412420,  9658000, 12261610,  7549650, 10039090,\n",
       "        7036460, 13245480,  6495250, 18686820, 12046000,  7382320,\n",
       "       12813600, 22918500,  9400830,  5821000,  9626920,  3602875,\n",
       "        6993500,  7222220,  9648350, 22027780, 15381325,  8319250,\n",
       "       11991960, 15461440, 10006870, 11680440,  9622550, 22712170,\n",
       "        6646210, 10088000, 13991160, 13663850,  6192250, 13839120,\n",
       "        9047980,  8813065, 13753510, 11855350, 10508500,  8802320,\n",
       "        9374280, 12412600, 15389035,  9563000,  9468300, 11157010,\n",
       "        9222850, 13176350, 13486940,  7589010, 11040310, 13640240,\n",
       "        8545605, 20823790, 13205875, 13112560, 13776050, 14686600,\n",
       "        9379310, 12430300, 11139700, 10620750,  4678720,  5500000,\n",
       "       11217570, 13245700, 13099400, 10970740, 10169750,  7904525,\n",
       "       13822920, 11939850,  4876500,  9064800,  7377300, 11277710,\n",
       "       21789460, 15494260,  8387750,  8414700, 20562600,  8732470,\n",
       "       13168605,  6997335,  7688000, 10958500,  8871195,  8917740,\n",
       "       11295000,  7774580, 10643500,  8454860, 13941590,  9837875,\n",
       "       10882430,  5326500,  9790040,  4661125,  9464500, 16935440,\n",
       "        5434250, 20461220,  5587150,  8438625,  7883050,  3219750,\n",
       "        9722500,  6895000,  9555750, 10455360,  5100500, 10374040,\n",
       "        6658000,  8852085,  9771780, 12537750,  6472305, 13081070,\n",
       "       21008600, 14546520,  9852290, 10241290, 13699490, 10190000,\n",
       "        8989620, 12285100, 11402380,  7135990, 10313310, 14025290,\n",
       "       10477750,  8687220, 10503250,  9059580, 14554600,  9641790,\n",
       "       16440220, 13730250, 11620880, 11859315,  8227170, 13858750,\n",
       "       13053100,  9550950, 13457270,  8424650,  8197450,  6609500,\n",
       "        7643550,  8298710, 11076280,  9292400,  5798500,  8427650,\n",
       "       14263020,  5323250,  9347000, 11398650, 10038630, 11544130,\n",
       "        8165230, 13456660,  7828105, 12755110,  4591875, 13264000,\n",
       "        6235500,  8458500,  7180750, 12763700, 19839060, 12990820,\n",
       "       11062000,  8992520, 14737720, 14615700, 13495120,  9779750,\n",
       "       12781400,  9446200,  4485750, 10560230,  5561250, 18055240,\n",
       "       10578000,  9801720, 12952940,  9477620, 11697500, 10295890,\n",
       "        6350490, 10978335, 12787100, 20600300,  9789500, 10282630,\n",
       "        5844625,  9387330, 12605100, 21006920,  9812105, 10908570,\n",
       "        8358575, 14993670, 18132160,  4188750, 10972000, 15189120,\n",
       "        9940500,  9975260,  6034000,  9168900, 14168750, 12759490,\n",
       "       12310870,  5164250, 10013250, 10199620, 19124310, 13476000,\n",
       "        8799000,  9020650,  8847850, 10010430,  5488250,  9654890,\n",
       "        6146755,  9012665, 11475260, 11097000,  4788000, 13891800,\n",
       "       16444460, 13531290,  8852535, 10706200,  8578170,  8540670,\n",
       "        8254510, 14868160, 18179660,  9283610, 16243160,  5412500,\n",
       "        8168160, 14034060, 11119250, 12755280, 12090050,  9191250,\n",
       "        8394250,  6253350, 11395530,  9449050, 10771100, 11327800,\n",
       "        6700125,  8394815,  9695260,  8229000,  8784250,  7789175,\n",
       "        9833380,  9635600,  6382640,  9159770,  7344540,  8171850,\n",
       "       12555150, 11469920, 14684750,  5850985,  7260750, 10842880,\n",
       "       10146980,  9815400,  5664050, 15023650,  7919880,  9893805,\n",
       "       14290850,  7104320,  7929750, 13174060], dtype=int64)"
      ]
     },
     "execution_count": 128,
     "metadata": {},
     "output_type": "execute_result"
    }
   ],
   "source": [
    "df['SALES_PRICE'].unique()"
   ]
  },
  {
   "cell_type": "code",
   "execution_count": 129,
   "metadata": {},
   "outputs": [],
   "source": [
    "sp=[ 7600000., 21717770., 13159200.,  9630290.,  7406250., 12394750.,\n",
    "        8488790., 16800250.,  8308970.,  8083650., 14938000.,  9449730.,\n",
    "        8774370.,  9386490., 15499680.,  8656000., 10912550.,  8287550.,\n",
    "       21203240., 10905530.,  9185970., 10925400.,  9627380., 13922760.,\n",
    "       12601080., 13383350.,  7939625.,  8848285., 11338200., 12872430.,\n",
    "        9042050., 14874380., 10222380., 12928590., 17564820.,  4971250.,\n",
    "        9170660., 10383420., 11601400.,  8249260.,  6944500.,  7745000.,\n",
    "        5728000., 18725520.,  3572250., 20215970.,  8379000.,  5290635.,\n",
    "       12548930.,  5857750., 10729700., 17006780.,  5570050.,  3854375.,\n",
    "        8594875., 13549250.,  9480750.,  5847520.,  9710900.,  9398750.,\n",
    "        8806250., 12087330., 14175620., 11920820., 13364730.,  6922975.,\n",
    "       11673175., 13069740., 10283575.,  8956480.,  7187350., 12574850.,\n",
    "       13906270.,  9917500.,  8629750., 11667050.,  9817150.,  9263050.,\n",
    "        6587500.,  9799360., 12801500., 17454510.,  9832420., 12476770.,\n",
    "       10381355., 17600240., 10934875., 12372160., 11248750., 14241140.,\n",
    "       10160600., 13539080., 10727750.,  9867055.,  9478710.,  9050200.,\n",
    "        7904210., 13063450., 13584980., 13116050., 10012600., 12105920.,\n",
    "        4918375.,  7703200.,  8569080., 12146620., 11671620., 14915900.,\n",
    "       13547790.,  8213040.,  7304000., 10390900., 19206870.,  9965375.,\n",
    "        7207000.,  9070550.,  5670200.,  9253200.,  4294000., 14316000.,\n",
    "       23307000.,  9735150., 11336400., 17701600.,  6572900., 13423020.,\n",
    "       13122040., 18939100., 12803570.,  8050270.,  7194600., 11412700.,\n",
    "       12035355.,  6877000., 10346400., 10809500., 10200600.,  6190150.,\n",
    "        6507250., 11350400., 19285540.,  5856625., 12472000.,  8441900.,\n",
    "        7579320.,  9759000., 12423800., 15495760., 11022270.,  7605550.,\n",
    "        7967750.,  8946800.,  9244820.,  9821600., 15852740.,  8757635.,\n",
    "        8415990.,  9935595., 16617860., 12412050., 22630540.,  9901500.,\n",
    "       10449910.,  7948600.,  9098680.,  8342850., 18662350.,  8172630.,\n",
    "        5856500., 14704160., 13360440.,  4928250.,  7315125., 10998320.,\n",
    "        3936375.,  9201770., 17891240.,  5144500.,  8007250.,  8479250.,\n",
    "       10129160.,  9482200.,  9846750.,  8675820., 10262450.,  8671050.,\n",
    "       11165550.,  9464800., 18849880, 20996200, 11527430, 12575010,\n",
    "        7146890, 11224620, 10530200, 13669670, 11410310,  8762820,\n",
    "        8282500,  7410200, 12925550, 15495150, 10629750, 11104320,\n",
    "        6863000, 11462310, 15664740, 19817860, 19609810,  9314050,\n",
    "        6922750,  8585715,  9675500, 10094840, 11992650, 10342830,\n",
    "        8476180,  7603630,  7520800, 11266200, 10509200,  9433250,\n",
    "       10885120,  5198500,  8197980,  6619875, 13938120,  7993125,\n",
    "       10000930, 12611320, 19632920,  8699125,  3339000, 13140580,\n",
    "        4886000,  8414875, 11492450,  8750680, 10763000, 10599000,\n",
    "        9104275,  7319800,  6354550, 14017800,  6678470,  6193485,\n",
    "        9668900,  7831830,  8783500,  8340500, 19704720,  9632875,\n",
    "       12198380,  6687375,  8850660, 10595700, 15074080, 10474605,\n",
    "       10581870, 16929800,  7740080,  7742000,  9341250, 12872810,\n",
    "        8275800, 12313350,  8452080,  8646380,  8576110,  8461500,\n",
    "        5613270,  7151680, 11308830, 11677750,  8908220,  6789000,\n",
    "        8529780,  6231125, 13840180, 20586630, 20181980, 10978140,\n",
    "       18299980, 12370100,  5232500, 14638800, 18803650,  9859360,\n",
    "       16602700, 12337540, 20034510,  8700500, 10021800, 12239160,\n",
    "       18855250,  6408750,  7016840,  6597000,  8310590, 10210500,\n",
    "        5383105, 11269470,  5314000, 11584500, 11526700,  6900800,\n",
    "       12906800,  9575120,  8047500, 16967540, 11168750, 20697180,\n",
    "        7310375,  7506500, 11873250, 20496430,  6453250, 11157225,\n",
    "       10671450, 11110000,  6997850,  7738700, 12501600,  9341900,\n",
    "        9656600,  8060000, 12032720, 13076450, 11359500, 11673500,\n",
    "        9338270, 10678140,  9570490,  8820750, 10259180, 10502000,\n",
    "       11407570, 12680410,  6930720, 18963740,  9218040,  9304770,\n",
    "       16025310,  7479000,  9943840,  3867250,  9729900,  6972000,\n",
    "        7853250, 10759755,  6387750,  5275500,  6624750,  5829000,\n",
    "       18439310, 12038750, 13957390,  9234130,  8254270, 11691860,\n",
    "       14771930, 14565090,  9388710,  9686030, 15825560,  6824750,\n",
    "        9667200, 13743040,  7099500,  5333875,  4905000,  8827940,\n",
    "        9657300,  9038645, 13160800, 11270700, 14927280, 12924300,\n",
    "        8194735, 13800760, 13144750,  9623750, 10363250, 11412420,\n",
    "        9658000, 12261610,  7549650, 10039090,  7036460, 13245480,\n",
    "        6495250, 18686820, 12046000,  7382320, 12813600, 22918500,\n",
    "        9400830,  5821000,  9626920,  3602875,  6993500,  7222220,\n",
    "        9648350, 22027780, 15381325,  8319250, 11991960, 15461440,\n",
    "       10006870, 11680440,  9622550, 22712170,  6646210, 10088000,\n",
    "       13991160, 13663850,  6192250, 13839120,  9047980,  8813065,\n",
    "       13753510, 11855350, 10508500,  8802320,  9374280, 12412600,\n",
    "       15389035,  9563000,  9468300, 11157010,  9222850, 13176350,\n",
    "       13486940,  7589010, 11040310, 13640240,  8545605, 20823790,\n",
    "       13205875, 13112560, 13776050, 14686600,  9379310, 12430300,\n",
    "       11139700, 10620750,  4678720,  5500000, 11217570, 13245700,\n",
    "       13099400, 10970740, 10169750,  7904525, 13822920, 11939850,\n",
    "        4876500,  9064800,  7377300, 11277710, 21789460, 15494260,\n",
    "        8387750,  8414700, 20562600,  8732470, 13168605,  6997335,\n",
    "        7688000, 10958500,  8871195,  8917740, 11295000,  7774580,\n",
    "       10643500,  8454860, 13941590,  9837875, 10882430,  5326500,\n",
    "        9790040,  4661125,  9464500, 16935440,  5434250, 20461220,\n",
    "        5587150,  8438625,  7883050,  3219750,  9722500,  6895000,\n",
    "        9555750, 10455360,  5100500, 10374040,  6658000,  8852085,\n",
    "        9771780, 12537750,  6472305, 13081070, 21008600, 14546520,\n",
    "        9852290, 10241290, 13699490, 10190000,  8989620, 12285100,\n",
    "       11402380,  7135990, 10313310, 14025290, 10477750,  8687220,\n",
    "       10503250,  9059580, 14554600,  9641790, 16440220, 13730250,\n",
    "       11620880, 11859315,  8227170, 13858750, 13053100,  9550950,\n",
    "       13457270,  8424650,  8197450,  6609500,  7643550,  8298710,\n",
    "       11076280,  9292400,  5798500,  8427650, 14263020,  5323250,\n",
    "        9347000, 11398650, 10038630, 11544130,  8165230, 13456660,\n",
    "        7828105, 12755110,  4591875, 13264000,  6235500,  8458500,\n",
    "        7180750, 12763700, 19839060, 12990820, 11062000,  8992520,\n",
    "       14737720, 14615700, 13495120,  9779750, 12781400,  9446200,\n",
    "        4485750, 10560230,  5561250, 18055240, 10578000,  9801720,\n",
    "       12952940,  9477620, 11697500, 10295890,  6350490, 10978335,\n",
    "       12787100, 20600300,  9789500, 10282630,  5844625,  9387330,\n",
    "       12605100, 21006920,  9812105, 10908570,  8358575, 14993670,\n",
    "       18132160,  4188750, 10972000, 15189120,  9940500,  9975260,\n",
    "        6034000,  9168900, 14168750, 12759490, 12310870,  5164250,\n",
    "       10013250, 10199620, 19124310, 13476000,  8799000,  9020650,\n",
    "        8847850, 10010430,  5488250,  9654890,  6146755,  9012665,\n",
    "       11475260, 11097000,  4788000, 13891800, 16444460, 13531290,\n",
    "        8852535, 10706200,  8578170,  8540670,  8254510, 14868160,\n",
    "       18179660,  9283610, 16243160,  5412500,  8168160, 14034060,\n",
    "       11119250, 12755280, 12090050,  9191250,  8394250,  6253350,\n",
    "       11395530,  9449050, 10771100, 11327800,  6700125,  8394815,\n",
    "        9695260,  8229000,  8784250,  7789175,  9833380,  9635600,\n",
    "        6382640,  9159770,  7344540,  8171850, 12555150, 11469920,\n",
    "       14684750,  5850985,  7260750, 10842880, 10146980,  9815400,\n",
    "        5664050, 15023650,  7919880,  9893805, 14290850,  7104320,\n",
    "        7929750, 13174060]"
   ]
  },
  {
   "cell_type": "code",
   "execution_count": 130,
   "metadata": {},
   "outputs": [],
   "source": [
    "l7=[]\n",
    "for x in range(0,len(l6)):\n",
    "    l7.append(0)\n"
   ]
  },
  {
   "cell_type": "code",
   "execution_count": 131,
   "metadata": {},
   "outputs": [],
   "source": [
    "df.replace({'SALES_PRICE':{7600000.:0, 21717770.:1, 13159200.:2,  9630290.:3,  7406250.:4, 12394750.:5,8488790.:6, 16800250.:7,  8308970.:8,\n",
    "    8083650.:9, 14938000.:10,  9449730.:11,8774370.:12,  9386490.:13, 15499680.:14,  8656000.:15, 10912550.:16,  8287550.:17,\n",
    "21203240.:18, 10905530.:19,  9185970.:20, 10925400.:21,  9627380.:22, 13922760.:23,12601080.:24, 13383350.:25,  7939625.:26,\n",
    "    8848285.:27, \n",
    "    11338200.:28, \n",
    "12872430.:29,9042050.:30, 14874380.:31, 10222380.:32, 12928590.:33, 17564820.:34,  4971250.:35,9170660.:36, 10383420.:37,\n",
    "    11601400.:38, \n",
    "    8249260.:39,\n",
    "    6944500.:40,  7745000.:41,5728000.:42, 18725520.:43,  3572250.:44, 20215970.:45,  8379000.:46,  5290635.:47,12548930.:48,\n",
    "    5857750.:49,\n",
    "    10729700.:50,\n",
    "    17006780.:51,  5570050.:52,  3854375.:53,8594875.:54, 13549250.:55,  9480750.:56,  5847520.:57,  9710900.:58,  9398750.:59,\n",
    "                           8806250.:60,\n",
    "    12087330.:61,\n",
    "    14175620.:62, 11920820.:63, 13364730.:64,  6922975.:65,11673175.:66, 13069740.:67, 10283575.:68,  8956480.:69,  7187350.:70,\n",
    "                           12574850.:71,\n",
    "    13906270.:72,\n",
    "    9917500.:73,  8629750.:74, 11667050.:75,  9817150.:76,  9263050.:77,6587500.:78,  9799360.:79, 12801500.:80, 17454510.:81,\n",
    "                           9832420.:82,\n",
    "    12476770.:83,\n",
    "    10381355.:84, 17600240.:85, 10934875.:86, 12372160.:87, 11248750.:88, 14241140.:89,10160600.:90, 13539080.:91, 10727750.:92,\n",
    "                           9867055.:93,\n",
    "    9478710.:94,\n",
    "    9050200.:95,7904210.:96, 13063450.:97, 13584980.:98, 13116050.:99, 10012600.:100, 12105920.:101,4918375.:102,  7703200.:103,\n",
    "                           8569080.:104,\n",
    "    12146620.:105,\n",
    "    11671620.:106, 14915900.:107,13547790.:108,  8213040.:109,  7304000.:110, 10390900.:111, 19206870.:112,  9965375.:113,\n",
    "                           7207000.:114,\n",
    "    9070550.:115,  5670200.:116,\n",
    "    9253200.:117,  4294000.:118, 14316000.:119,23307000.:120,  9735150.:121, 11336400.:122, 17701600.:123,  6572900.:124,\n",
    "                           13423020.:125,13122040.:126,\n",
    "    18939100.:127,\n",
    "    12803570.:128,  8050270.:129,  7194600.:130, 11412700.:131,12035355.:132,  6877000.:133, 10346400.:134, 10809500.:135,\n",
    "                           10200600.:136,  6190150.:137,\n",
    "    6507250.:138,\n",
    "    11350400.:139, 19285540.:140,  5856625.:141, 12472000.:142,  8441900.:143,7579320.:144,  9759000.:145, 12423800.:146,\n",
    "                           15495760.:147, 11022270.:148,\n",
    "    7605550.:149,\n",
    "    7967750.:150,  8946800.:151,  9244820.:152,  9821600.:153, 15852740.:154,  8757635.:155,8415990.:156,  9935595.:157,\n",
    "                           16617860.:158, 12412050.:159,\n",
    "    22630540.:160,\n",
    "    9901500.:161,10449910.:162,  7948600.:163,  9098680.:164,  8342850.:165, 18662350.:166,  8172630.:167,5856500.:168,\n",
    "                           14704160.:169, 13360440.:170,\n",
    "    4928250.:171,\n",
    "    7315125.:172, 10998320.:173,3936375.:174,  9201770.:175, 17891240.:176,  5144500.:177,  8007250.:178,  \n",
    "    8479250.:179,10129160.:180,  9482200.:181,  9846750.:182,\n",
    "    8675820.:183, 10262450.:184,  8671050.:185,11165550.:186,  9464800.:187, 18849880.:188,20996200:189, 11527430:190,\n",
    "    12575010:200,\n",
    "        7146890:201, 11224620:201, 10530200:202, 13669670:203, 11410310:204,  8762820:205,\n",
    "        8282500:206,  7410200:207, 12925550:208, 15495150:209, 10629750:210, 11104320:211,\n",
    "        6863000:212, 11462310:213, 15664740:214, 19817860:215, 19609810:216,  9314050:217,\n",
    "        6922750:218,  8585715:219, 9675500:220, 10094840:221, 11992650:222, 10342830:223,\n",
    "        8476180:224,  7603630:225,  7520800:226, 11266200:227, 10509200:228,  9433250:229,\n",
    "       10885120:230,  5198500:231,  8197980:232,  6619875:233, 13938120:234,  7993125:235,\n",
    "       10000930:236, 12611320:237, 19632920:238,  8699125:239,  3339000:240, 13140580:241,\n",
    "        4886000:242,  8414875:243, 11492450:244,  8750680:245, 10763000:246, 10599000:247,\n",
    "        9104275:248,  7319800:249,  6354550:250, 14017800:251,  6678470:252,  6193485:253,\n",
    "        9668900:254,  7831830:255,  8783500:256,  8340500:257, 19704720:258,  9632875:259,\n",
    "       12198380:260,  6687375:261,  8850660:262, 10595700:263, 15074080:264, 10474605:265,\n",
    "       10581870:266, 16929800:267,  7740080:268,  7742000:269,  9341250:270, 12872810:271,\n",
    "        8275800:272, 12313350:273,  8452080:274,  8646380:275,  8576110:276,  8461500:277,\n",
    "        5613270:278,  7151680:279, 11308830:280, 11677750:281,  8908220:282,  6789000:283,\n",
    "        8529780:284,  6231125:285, 13840180:286, 20586630:287, 20181980:288, 10978140:289,\n",
    "       18299980:290, 12370100:291,  5232500:292, 14638800:293, 18803650:294,  9859360:295,\n",
    "       16602700:296, 12337540:297, 20034510:298,  8700500:299, 10021800:300, 12239160:301,\n",
    "       18855250:302,  6408750:303,  7016840:304,  6597000:305,  8310590:306, 10210500:307,\n",
    "        5383105:308, 11269470:309,  5314000:310, 11584500:311, 11526700:312,  6900800:313,\n",
    "       12906800:314,  9575120:315,  8047500:316, 16967540:317, 11168750:318, 20697180:319,\n",
    "        7310375:320,  7506500:321, 11873250:322, 20496430:323,  6453250:324, 11157225:325,\n",
    "       10671450:326, 11110000:327,  6997850:328,  7738700:329, 12501600:330,  9341900:331,\n",
    "        9656600:332,  8060000:333, 12032720:334, 13076450:335, 11359500:336, 11673500:337,\n",
    "        9338270:338, 10678140:339,  9570490:340,  8820750:341, 10259180:342, 10502000:343,\n",
    "       11407570:344, 12680410:345,  6930720:346, 18963740:347,  9218040:348,  9304770:349,\n",
    "       16025310:350,  7479000:351,  9943840:352,  3867250:353,  9729900:354,  6972000:355,\n",
    "        7853250:356, 10759755:357,  6387750:358,  5275500:359,  6624750:360,  5829000:361,\n",
    "       18439310:362, 12038750:363, 13957390:364,  9234130:365,  8254270:366, 11691860:367,\n",
    "       14771930:368, 14565090:369,  9388710:370,  9686030:371, 15825560:372,  6824750:373,\n",
    "        9667200:374, 13743040:375,  7099500:376,  5333875:377,  4905000:378,  8827940:379,\n",
    "        9657300:380,  9038645:381, 13160800:382, 11270700:383, 14927280:384, 12924300:385,\n",
    "        8194735:386, 13800760:387, 13144750:388,  9623750:389, 10363250:390, 11412420:400,\n",
    "        9658000:401, 12261610:401,  7549650:402, 10039090:403,  7036460:403, 13245480:404,\n",
    "        6495250:405, 18686820:406, 12046000:407,  7382320:408, 12813600:409, 22918500:410,\n",
    "        9400830:411,  5821000:412,  9626920:413,  3602875:414,  6993500:415,  7222220:416,\n",
    "        9648350:417, 22027780:418, 15381325:419,  8319250:420, 11991960:421, 15461440:422,\n",
    "       10006870:423, 11680440:424,  9622550:425, 22712170:426,  6646210:427, 10088000:428,\n",
    "       13991160:429, 13663850:430,  6192250:431, 13839120:432,  9047980:433,  8813065:434,\n",
    "       13753510:435, 11855350:436, 10508500:437,  8802320:438,  9374280:439, 12412600:440,\n",
    "       15389035:441,  9563000:442,  9468300:443, 11157010:444,  9222850:445, 13176350:446,\n",
    "       13486940:447,  7589010:448, 11040310:449, 13640240:450,  8545605:451, 20823790:452,\n",
    "       13205875:453, 13112560:454, 13776050:455, 14686600:456,  9379310:457, 12430300:458,\n",
    "       11139700:459, 10620750:460,  4678720:461,  5500000:462, 11217570:463, 13245700:464,\n",
    "       13099400:465, 10970740:466, 10169750:467,  7904525:468, 13822920:469, 11939850:470,\n",
    "        4876500:471,  9064800:472,  7377300:473, 11277710:474, 21789460:475, 15494260:476,\n",
    "        8387750:477,  8414700:478, 20562600:479,  8732470:480, 13168605:481,  6997335:482,\n",
    "        7688000:483, 10958500:484,  8871195:485,  8917740:486, 11295000:487,  7774580:488,\n",
    "       10643500:489,  8454860:490, 13941590:491,  9837875:492, 10882430:493,  5326500:494,\n",
    "        9790040:495,  4661125:496,  9464500:497, 16935440:498,  5434250:499, 20461220:500,\n",
    "        5587150:501,  8438625:502,  7883050:503,  3219750:504,  9722500:505,  6895000:506,\n",
    "        9555750:507, 10455360:508,  5100500:509, 10374040:510,  6658000:511,  8852085:512,\n",
    "        9771780:513, 12537750:514,  6472305:515, 13081070:516, 21008600:517, 14546520:518,\n",
    "        9852290:519, 10241290:520, 13699490:521, 10190000:522,  8989620:523, 12285100:524,\n",
    "       11402380:525,  7135990:526, 10313310:527, 14025290:528, 10477750:529,  8687220:530,\n",
    "       10503250:531,  9059580:532, 14554600:533,  9641790:534, 16440220:535, 13730250:536,\n",
    "       11620880:537, 11859315:538,  8227170:539, 13858750:540, 13053100:541,  9550950:542,\n",
    "       13457270:543,  8424650:544,  8197450:545,  6609500:546,  7643550:547,  8298710:548,\n",
    "       11076280:549,  9292400:550,  5798500:551,  8427650:552, 14263020:553,  5323250:554,\n",
    "        9347000:556, 11398650:557, 10038630:558, 11544130:559,  8165230:560, 13456660:561,\n",
    "        7828105:562, 12755110:563,  4591875:564, 13264000:565,  6235500:566,  8458500:567,\n",
    "        7180750:568, 12763700:569, 19839060:570, 12990820:571, 11062000:572,  8992520:573,\n",
    "       14737720:574, 14615700:575, 13495120:576,  9779750:577, 12781400:578,  9446200:579,\n",
    "        4485750:560, 10560230:561,  5561250:562, 18055240:563, 10578000:564,  9801720:565,\n",
    "       12952940:566,  9477620:567, 11697500:568, 10295890:569,  6350490:570, 10978335:571,\n",
    "       12787100:572, 20600300:573,  9789500:574, 10282630:575,  5844625:576,  9387330:577,\n",
    "       12605100:578, 21006920:579,  9812105:580, 10908570:581,  8358575:582, 14993670:583,\n",
    "       18132160:584,  4188750:585, 10972000:586, 15189120:587,  9940500:588,  9975260:589,\n",
    "        6034000:590,  9168900:591, 14168750:592, 12759490:593, 12310870:594,  5164250:595,\n",
    "       10013250:596, 10199620:597, 19124310:598, 13476000:599,  8799000:600,  9020650:601,\n",
    "        8847850:602, 10010430:603,  5488250:604,  9654890:605,  6146755:606,  9012665:607,\n",
    "       11475260:608, 11097000:609,  4788000:610, 13891800:611, 16444460:612, 13531290:613,\n",
    "        8852535:614, 10706200:615,  8578170:616,  8540670:617,  8254510:618, 14868160:619,\n",
    "       18179660:620,  9283610:621, 16243160:622,  5412500:623,  8168160:624, 14034060:625,\n",
    "       11119250:626, 12755280:627, 12090050:628,  9191250:629,  8394250:630,  6253350:631,\n",
    "       11395530:632,  9449050:633, 10771100:634, 11327800:635,  6700125:636,  8394815:637,\n",
    "        9695260:638,  8229000:639,  8784250:640,  7789175:641,  9833380:642,  9635600:643,\n",
    "        6382640:644,  9159770:645,  7344540:646,  8171850:647, 12555150:648, 11469920:649,\n",
    "       14684750:650,  5850985:651,  7260750:652, 10842880:653, 10146980:654,  9815400:655,\n",
    "        5664050:656, 15023650:657,  7919880:658,  9893805:659, 14290850:660,  7104320:661,\n",
    "        7929750:662, 13174060:663}},inplace=True)"
   ]
  },
  {
   "cell_type": "code",
   "execution_count": 132,
   "metadata": {},
   "outputs": [
    {
     "data": {
      "text/plain": [
       "array([       0,        1,        2,        3,        4,        5,\n",
       "              6,        7,        8,        9,       10,       11,\n",
       "             12,       13,       14,       15,       16,       17,\n",
       "             18,       19,       20,       21,       22,       23,\n",
       "             24,       25,       26,       27,       28,       29,\n",
       "             30,       31,       32,       33,       34,       35,\n",
       "             36,       37,       38,       39,       40,       41,\n",
       "             42,       43,       44,       45,       46,       47,\n",
       "             48,       49,       50,       51,       52,       53,\n",
       "             54,       55,       56,       57,       58,       59,\n",
       "             60,       61,       62,       63,       64,       65,\n",
       "             66,       67,       68,       69,       70,       71,\n",
       "             72,       73,       74,       75,       76,       77,\n",
       "             78,       79,       80,       81,       82,       83,\n",
       "             84,       85,       86,       87,       88,       89,\n",
       "             90,       91,       92,       93,       94,       95,\n",
       "             96,       97,       98,       99,      100,      101,\n",
       "            102,      103,      104,      105,      106,      107,\n",
       "            108,      109,      110,      111,      112,      113,\n",
       "            114,      115,      116,      117,      118,      119,\n",
       "            120,      121,      122,      123,      124,      125,\n",
       "            126,      127,      128,      129,      130,      131,\n",
       "            132,      133,      134,      135,      136,      137,\n",
       "            138,      139,      140,      141,      142,      143,\n",
       "            144,      145,      146,      147,      148,      149,\n",
       "            150,      151,      152,      153,      154,      155,\n",
       "            156,      157,      158,      159,      160,      161,\n",
       "            162,      163,      164,      165,      166,      167,\n",
       "            168,      169,      170,      171,      172,      173,\n",
       "            174,      175,      176,      177,      178,      179,\n",
       "            180,      181,      182,      183,      184,      185,\n",
       "            186,      187,      188,      189,      190,      200,\n",
       "            201,      201,      202,      203,      204,      205,\n",
       "            206,      207,      208,      209,      210,      211,\n",
       "            212,      213,      214,      215,      216,      217,\n",
       "            218,      219,      220,      221,      222,      223,\n",
       "            224,      225,      226,      227,      228,      229,\n",
       "            230,      231,      232,      233,      234,      235,\n",
       "            236,      237, 14310420,      238,      239,      240,\n",
       "            241,      242,      243,      244,      245,      246,\n",
       "            247,      248,      249,      250,      251,      252,\n",
       "            253,      254,      255,      256,      257,      258,\n",
       "            259,      260,      261,      262,      263,      264,\n",
       "            265,      266,      267,      268,      269,      270,\n",
       "            271,      272,      273,      274,      275,      276,\n",
       "            277,      278,      279,      280,      281,      282,\n",
       "            283,      284,      285,      286,      287,      288,\n",
       "            289,      290,      291,      292,      293,      294,\n",
       "            295,      296,      297,      298,      299,      300,\n",
       "            301,      302,      303,      304,      305,      306,\n",
       "            307,      308,      309,      310,      311,      312,\n",
       "            313,      314,      315,      316,      317,      318,\n",
       "            319,      320,      321,      322,      323,      324,\n",
       "            325,      326,      327,      328,      329,      330,\n",
       "            331,      332,      333,      334,      335,      336,\n",
       "            337,      338,      339,      340,      341,      342,\n",
       "       20020970,      343,      344,      345,      346,      347,\n",
       "            348,      349,      350,      351,      352,      353,\n",
       "            354,      355,      356,      357,      358,      359,\n",
       "            360,      361,      362,      363,      364,      365,\n",
       "            366,      367,      368,      369,      370,      371,\n",
       "            372,      373,      374,      375,      376,      377,\n",
       "            378,      379,      380,      381,      382,      383,\n",
       "            384,      385,      386,      387,      388,      389,\n",
       "            390,      400,      401,      401,      402,      403,\n",
       "            403,      404,      405,      406,      407,      408,\n",
       "            409,      410,      411,      412,      413,      414,\n",
       "            415,      416,      417,      418,      419,      420,\n",
       "            421,      422,      423,      424,      425,      426,\n",
       "            427,      428,      429,      430,      431,      432,\n",
       "            433,      434,      435,      436,      437,      438,\n",
       "            439,      440,      441,      442,      443,      444,\n",
       "            445,      446,      447,      448,      449,      450,\n",
       "            451,      452,      453,      454,      455,      456,\n",
       "            457,      458,      459,      460,      461,      462,\n",
       "            463,      464,      465,      466,      467,      468,\n",
       "            469,      470,      471,      472,      473,      474,\n",
       "            475,      476,      477,      478,      479,      480,\n",
       "            481,      482,      483,      484,      485,      486,\n",
       "            487,      488,      489,      490,      491,      492,\n",
       "            493,      494,      495,      496,      497,      498,\n",
       "            499,      500,      501,      502,      503,      504,\n",
       "            505,      506,      507,      508,      509,      510,\n",
       "            511,      512,      513,      514,      515,      516,\n",
       "            517,      518,      519,      520,      521,      522,\n",
       "            523,      524,      525,      526,      527,      528,\n",
       "            529,      530,      531,      532,      533,      534,\n",
       "            535,      536,      537,      538,      539,      540,\n",
       "            541,      542,      543,      544,      545,      546,\n",
       "            547,      548,      549,      550,      551,      552,\n",
       "            553,      554,      556,      557,      558,      559,\n",
       "            560,      561,      562,      563,      564,      565,\n",
       "            566,      567,      568,      569,      570,      571,\n",
       "            572,      573,      574,      575,      576,      577,\n",
       "            578,      579,      560,      561,      562,      563,\n",
       "            564,      565,      566,      567,      568,      569,\n",
       "            570,      571,      572,      573,      574,      575,\n",
       "            576,      577,      578,      579,      580,      581,\n",
       "            582,      583,      584,      585,      586,      587,\n",
       "            588,      589,      590,      591,      592,      593,\n",
       "            594,      595,      596,      597,      598,      599,\n",
       "            600,      601,      602,      603,      604,      605,\n",
       "            606,      607,      608,      609,      610,      611,\n",
       "            612,      613,      614,      615,      616,      617,\n",
       "            618,      619,      620,      621,      622,      623,\n",
       "            624,      625,      626,      627,      628,      629,\n",
       "            630,      631,      632,      633,      634,      635,\n",
       "            636,      637,      638,      639,      640,      641,\n",
       "            642,      643,      644,      645,      646,      647,\n",
       "            648,      649,      650,      651,      652,      653,\n",
       "            654,      655,      656,      657,      658,      659,\n",
       "            660,      661,      662,      663], dtype=int64)"
      ]
     },
     "execution_count": 132,
     "metadata": {},
     "output_type": "execute_result"
    }
   ],
   "source": [
    "X= df[l6]\n",
    "\n",
    "\n",
    "y = df[[\"SALES_PRICE\"]]\n",
    "np.ravel(y)\n"
   ]
  },
  {
   "cell_type": "code",
   "execution_count": 133,
   "metadata": {},
   "outputs": [
    {
     "data": {
      "text/plain": [
       "array([       0,        1,        2,        3,        4,        5,\n",
       "              6,        7,        8,        9,       10,       11,\n",
       "             12,       13,       14,       15,       16,       17,\n",
       "             18,       19,       20,       21,       22,       23,\n",
       "             24,       25,       26,       27,       28,       29,\n",
       "             30,       31,       32,       33,       34,       35,\n",
       "             36,       37,       38,       39,       40,       41,\n",
       "             42,       43,       44,       45,       46,       47,\n",
       "             48,       49,       50,       51,       52,       53,\n",
       "             54,       55,       56,       57,       58,       59,\n",
       "             60,       61,       62,       63,       64,       65,\n",
       "             66,       67,       68,       69,       70,       71,\n",
       "             72,       73,       74,       75,       76,       77,\n",
       "             78,       79,       80,       81,       82,       83,\n",
       "             84,       85,       86,       87,       88,       89,\n",
       "             90,       91,       92,       93,       94,       95,\n",
       "             96,       97,       98,       99,      100,      101,\n",
       "            102,      103,      104,      105,      106,      107,\n",
       "            108,      109,      110,      111,      112,      113,\n",
       "            114,      115,      116,      117,      118,      119,\n",
       "            120,      121,      122,      123,      124,      125,\n",
       "            126,      127,      128,      129,      130,      131,\n",
       "            132,      133,      134,      135,      136,      137,\n",
       "            138,      139,      140,      141,      142,      143,\n",
       "            144,      145,      146,      147,      148,      149,\n",
       "            150,      151,      152,      153,      154,      155,\n",
       "            156,      157,      158,      159,      160,      161,\n",
       "            162,      163,      164,      165,      166,      167,\n",
       "            168,      169,      170,      171,      172,      173,\n",
       "            174,      175,      176,      177,      178,      179,\n",
       "            180,      181,      182,      183,      184,      185,\n",
       "            186,      187,      188,      189,      190,      200,\n",
       "            201,      201,      202,      203,      204,      205,\n",
       "            206,      207,      208,      209,      210,      211,\n",
       "            212,      213,      214,      215,      216,      217,\n",
       "            218,      219,      220,      221,      222,      223,\n",
       "            224,      225,      226,      227,      228,      229,\n",
       "            230,      231,      232,      233,      234,      235,\n",
       "            236,      237, 14310420,      238,      239,      240,\n",
       "            241,      242,      243,      244,      245,      246,\n",
       "            247,      248,      249,      250,      251,      252,\n",
       "            253,      254,      255,      256,      257,      258,\n",
       "            259,      260,      261,      262,      263,      264,\n",
       "            265,      266,      267,      268,      269,      270,\n",
       "            271,      272,      273,      274,      275,      276,\n",
       "            277,      278,      279,      280,      281,      282,\n",
       "            283,      284,      285,      286,      287,      288,\n",
       "            289,      290,      291,      292,      293,      294,\n",
       "            295,      296,      297,      298,      299,      300,\n",
       "            301,      302,      303,      304,      305,      306,\n",
       "            307,      308,      309,      310,      311,      312,\n",
       "            313,      314,      315,      316,      317,      318,\n",
       "            319,      320,      321,      322,      323,      324,\n",
       "            325,      326,      327,      328,      329,      330,\n",
       "            331,      332,      333,      334,      335,      336,\n",
       "            337,      338,      339,      340,      341,      342,\n",
       "       20020970,      343,      344,      345,      346,      347,\n",
       "            348,      349,      350,      351,      352,      353,\n",
       "            354,      355,      356,      357,      358,      359,\n",
       "            360,      361,      362,      363,      364,      365,\n",
       "            366,      367,      368,      369,      370,      371,\n",
       "            372,      373,      374,      375,      376,      377,\n",
       "            378,      379,      380,      381,      382,      383,\n",
       "            384,      385,      386,      387,      388,      389,\n",
       "            390,      400,      401,      401,      402,      403,\n",
       "            403,      404,      405,      406,      407,      408,\n",
       "            409,      410,      411,      412,      413,      414,\n",
       "            415,      416,      417,      418,      419,      420,\n",
       "            421,      422,      423,      424,      425,      426,\n",
       "            427,      428,      429,      430,      431,      432,\n",
       "            433,      434,      435,      436,      437,      438,\n",
       "            439,      440,      441,      442,      443,      444,\n",
       "            445,      446,      447,      448,      449,      450,\n",
       "            451,      452,      453,      454,      455,      456,\n",
       "            457,      458,      459,      460,      461,      462,\n",
       "            463,      464,      465,      466,      467,      468,\n",
       "            469,      470,      471,      472,      473,      474,\n",
       "            475,      476,      477,      478,      479,      480,\n",
       "            481,      482,      483,      484,      485,      486,\n",
       "            487,      488,      489,      490,      491,      492,\n",
       "            493,      494,      495,      496,      497,      498,\n",
       "            499,      500,      501,      502,      503,      504,\n",
       "            505,      506,      507,      508,      509,      510,\n",
       "            511,      512,      513,      514,      515,      516,\n",
       "            517,      518,      519,      520,      521,      522,\n",
       "            523,      524,      525,      526,      527,      528,\n",
       "            529,      530,      531,      532,      533,      534,\n",
       "            535,      536,      537,      538,      539,      540,\n",
       "            541,      542,      543,      544,      545,      546,\n",
       "            547,      548,      549,      550,      551,      552,\n",
       "            553,      554,      556,      557,      558,      559,\n",
       "            560,      561,      562,      563,      564,      565,\n",
       "            566,      567,      568,      569,      570,      571,\n",
       "            572,      573,      574,      575,      576,      577,\n",
       "            578,      579,      560,      561,      562,      563,\n",
       "            564,      565,      566,      567,      568,      569,\n",
       "            570,      571,      572,      573,      574,      575,\n",
       "            576,      577,      578,      579,      580,      581,\n",
       "            582,      583,      584,      585,      586,      587,\n",
       "            588,      589,      590,      591,      592,      593,\n",
       "            594,      595,      596,      597,      598,      599,\n",
       "            600,      601,      602,      603,      604,      605,\n",
       "            606,      607,      608,      609,      610,      611,\n",
       "            612,      613,      614,      615,      616,      617,\n",
       "            618,      619,      620,      621,      622,      623,\n",
       "            624,      625,      626,      627,      628,      629,\n",
       "            630,      631,      632,      633,      634,      635,\n",
       "            636,      637,      638,      639,      640,      641,\n",
       "            642,      643,      644,      645,      646,      647,\n",
       "            648,      649,      650,      651,      652,      653,\n",
       "            654,      655,      656,      657,      658,      659,\n",
       "            660,      661,      662,      663], dtype=int64)"
      ]
     },
     "execution_count": 133,
     "metadata": {},
     "output_type": "execute_result"
    }
   ],
   "source": [
    "X_test= df[l6]\n",
    "y_test = df[[\"SALES_PRICE\"]]\n",
    "np.ravel(y_test)"
   ]
  },
  {
   "cell_type": "code",
   "execution_count": 134,
   "metadata": {},
   "outputs": [],
   "source": [
    "def Tree():\n",
    "\n",
    "    \n",
    "    from sklearn.ensemble import VotingClassifier\n",
    "    from sklearn.linear_model import LogisticRegression\n",
    "    from sklearn.naive_bayes import GaussianNB\n",
    "    from sklearn.ensemble import ExtraTreesClassifier\n",
    "    \n",
    "    estimators = []\n",
    "    model1 = LogisticRegression()\n",
    "    estimators.append(('LogisticRegression', model1))\n",
    "    model2 = GaussianNB()\n",
    "    estimators.append(('GaussianNB', model2))\n",
    "    model3 = ExtraTreesClassifier()\n",
    "    estimators.append(('ExtraTreesClassifier', model3))\n",
    "    \n",
    "    \n",
    "    ensemble = VotingClassifier(estimators)\n",
    "\n",
    "    \n",
    "    clf3 = ensemble.fit(X,y)\n",
    "\n",
    "    from sklearn.metrics import accuracy_score\n",
    "    y_pred=clf3.predict(X_test)\n",
    "    print(accuracy_score(y_test, y_pred))\n",
    "    print(accuracy_score(y_test, y_pred,normalize=False))\n",
    "\n",
    "\n",
    "    terms = [dist.get(),loc.get(),sqft.get(),bedroom.get(),bathroom.get()]\n",
    "\n",
    "    for k in range(0,len(l6)):\n",
    "        \n",
    "        for z in terms:\n",
    "            if(z==l6[k]):\n",
    "                l7[k]=1\n",
    "\n",
    "    inputtest = [l7]\n",
    "    predict = clf3.predict(inputtest)\n",
    "    predicted=predict[0]\n",
    "\n",
    "    h='no'\n",
    "    for a in range(0,len(sp)):\n",
    "        if(predicted == a):\n",
    "            h='yes'\n",
    "            break\n",
    "\n",
    "\n",
    "    if (h=='yes'):\n",
    "        t1.delete(\"1.0\", END)\n",
    "        t1.insert(END, sp[a])\n",
    "    else:\n",
    "        t1.delete(\"1.0\", END)\n",
    "        t1.insert(END, \"Not Found\")\n"
   ]
  },
  {
   "cell_type": "code",
   "execution_count": 135,
   "metadata": {},
   "outputs": [
    {
     "data": {
      "text/plain": [
       "1"
      ]
     },
     "execution_count": 135,
     "metadata": {},
     "output_type": "execute_result"
    }
   ],
   "source": [
    "\n",
    "root1 = Tk()\n",
    "\n",
    "   \n",
    "root1.title(\"House Price Prediction\")\n",
    "root = Canvas(root1,width=450,height=1200,bg=\"white\")\n",
    "root.pack()\n",
    "photo = PhotoImage(file ='d1.png')\n",
    "root.create_image(0,0,image=photo,anchor=NW)"
   ]
  },
  {
   "cell_type": "code",
   "execution_count": 136,
   "metadata": {},
   "outputs": [],
   "source": [
    "\n",
    "\n",
    "dist = StringVar()\n",
    "dist.set(None)\n",
    "\n",
    "loc = StringVar()\n",
    "loc.set(None)\n",
    "\n",
    "sqft = StringVar()\n",
    "sqft.set(None)\n",
    "\n",
    "bedroom = StringVar()\n",
    "bedroom.set(None)\n",
    "\n",
    "bathroom = StringVar()\n",
    "bathroom.set(None)\n",
    "\n",
    "park = StringVar()\n",
    "park.set(None)\n",
    "\n",
    "\n",
    "Name= StringVar()"
   ]
  },
  {
   "cell_type": "code",
   "execution_count": 137,
   "metadata": {},
   "outputs": [],
   "source": [
    "\n",
    "w2 = Label(root, justify=LEFT, text=\"House Price Prediction using Ensemble Learning Method\", fg=\"black\", bg=\"white\")\n",
    "w2.config(font=(\"Elephant\", 20))\n",
    "w2.grid(row=1, column=0, columnspan=2, padx=100)\n",
    "w2 = Label(root, justify=LEFT, text=\"(Voting Classifier Algorithm)\", fg=\"green\")\n",
    "w2.config(font=(\"Times Roman\", 15))\n",
    "w2.grid(row=2, column=0, columnspan=2, padx=100)"
   ]
  },
  {
   "cell_type": "code",
   "execution_count": 138,
   "metadata": {},
   "outputs": [],
   "source": [
    "\n",
    "NameLb = Label(root, text=\"Name:\",fg=\"white\", bg=\"black\")\n",
    "NameLb.grid(row=5, column=0, pady=15, sticky=W)\n",
    "\n",
    "distLb = Label(root, text=\"Distance from home to main road Details:\",fg=\"white\", bg=\"black\")\n",
    "distLb.grid(row=6, column=0, pady=10, sticky=W)\n",
    "\n",
    "locLb = Label(root, text=\"Select Location:\",fg=\"white\", bg=\"black\")\n",
    "locLb.grid(row=7, column=0, pady=10, sticky=W)\n",
    "\n",
    "sqftLb = Label(root, text=\"Square feet Details:\",fg=\"white\", bg=\"black\")\n",
    "sqftLb.grid(row=8, column=0, pady=10, sticky=W)\n",
    "\n",
    "roomLbd = Label(root, text=\"No of Bed Rooms Availability:\",fg=\"white\", bg=\"black\")\n",
    "roomLbd.grid(row=9, column=0, pady=10, sticky=W)\n",
    "\n",
    "roomLbt = Label(root, text=\"No of Bath Rooms Availability:\",fg=\"white\", bg=\"black\")\n",
    "roomLbt.grid(row=10, column=0, pady=10, sticky=W)\n",
    "\n",
    "parkLb = Label(root, text=\"Park Availability:\",fg=\"white\", bg=\"black\")\n",
    "parkLb.grid(row=11, column=0, pady=10, sticky=W)\n"
   ]
  },
  {
   "cell_type": "code",
   "execution_count": 139,
   "metadata": {},
   "outputs": [],
   "source": [
    "destreeLb = Label(root, text=\"VC\", fg=\"black\", bg=\"white\")\n",
    "destreeLb.grid(row=12, column=0, pady=10,sticky=W)\n",
    "\n"
   ]
  },
  {
   "cell_type": "code",
   "execution_count": 140,
   "metadata": {},
   "outputs": [],
   "source": [
    "\n",
    "OPTIONS1 = sorted(l1)\n",
    "OPTIONS2 = sorted(l2)\n",
    "OPTIONS3 = sorted(l3)\n",
    "\n",
    "OPTIONS5 = sorted(l5)\n",
    "\n",
    "OPTIONSbed = sorted(l10)\n",
    "OPTIONSbath = sorted(l11)"
   ]
  },
  {
   "cell_type": "code",
   "execution_count": 141,
   "metadata": {},
   "outputs": [],
   "source": [
    "NameEn = Entry(root, textvariable=Name)\n",
    "NameEn.grid(row=5, column=1)\n",
    "\n",
    "distEn = OptionMenu(root, dist,*OPTIONS1)\n",
    "distEn.grid(row=6, column=1)\n",
    "\n",
    "locEn = OptionMenu(root, loc,*OPTIONS2)\n",
    "locEn.grid(row=7, column=1)\n",
    "\n",
    "sqftEn = OptionMenu(root, sqft,*OPTIONS3)\n",
    "sqftEn.grid(row=8, column=1)\n",
    "\n",
    "roombedEn = OptionMenu(root, bedroom,*OPTIONSbed)\n",
    "roombedEn.grid(row=9, column=1)\n",
    "\n",
    "roombathEn = OptionMenu(root, bathroom,*OPTIONSbath)\n",
    "roombathEn.grid(row=10, column=1)\n",
    "\n",
    "\n",
    "parkEn = OptionMenu(root, park,*OPTIONS5)\n",
    "parkEn.grid(row=11, column=1)"
   ]
  },
  {
   "cell_type": "code",
   "execution_count": 142,
   "metadata": {},
   "outputs": [],
   "source": [
    "def clear_display_result():\n",
    "    t1.delete('1.0',END)"
   ]
  },
  {
   "cell_type": "code",
   "execution_count": 143,
   "metadata": {},
   "outputs": [],
   "source": [
    "dst = Button(root, text=\"Chech the result!\", command=Tree,bg=\"white\",fg=\"green\")\n",
    "dst.grid(row=12, column=3,padx=10)\n",
    "b = Button(root, text=\"Reset\", command=clear_display_result,bg=\"white\",fg=\"black\")\n",
    "b.grid(row=5, column=2,padx=10)"
   ]
  },
  {
   "cell_type": "code",
   "execution_count": 144,
   "metadata": {},
   "outputs": [
    {
     "name": "stdout",
     "output_type": "stream",
     "text": [
      "0.3940298507462687\n",
      "264\n"
     ]
    }
   ],
   "source": [
    "\n",
    "\n",
    "t1 = Text(root, height=1, width=40,bg=\"white\",fg=\"black\")\n",
    "t1.grid(row=12, column=1, padx=10)\n",
    "\n",
    "\n",
    "root1.mainloop()"
   ]
  },
  {
   "cell_type": "code",
   "execution_count": null,
   "metadata": {},
   "outputs": [],
   "source": []
  },
  {
   "cell_type": "code",
   "execution_count": null,
   "metadata": {},
   "outputs": [],
   "source": []
  },
  {
   "cell_type": "code",
   "execution_count": null,
   "metadata": {},
   "outputs": [],
   "source": []
  }
 ],
 "metadata": {
  "kernelspec": {
   "display_name": "Python 3",
   "language": "python",
   "name": "python3"
  },
  "language_info": {
   "codemirror_mode": {
    "name": "ipython",
    "version": 3
   },
   "file_extension": ".py",
   "mimetype": "text/x-python",
   "name": "python",
   "nbconvert_exporter": "python",
   "pygments_lexer": "ipython3",
   "version": "3.7.3"
  }
 },
 "nbformat": 4,
 "nbformat_minor": 2
}

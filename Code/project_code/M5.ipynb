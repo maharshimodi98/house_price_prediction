{
 "cells": [
  {
   "cell_type": "markdown",
   "metadata": {},
   "source": [
    "# Performance measurements of Extra Tree and Stochastic Gradient descent "
   ]
  },
  {
   "cell_type": "code",
   "execution_count": 27,
   "metadata": {},
   "outputs": [],
   "source": [
    "\n",
    "import pandas as p\n",
    "import matplotlib.pyplot as plt\n",
    "import seaborn as s\n",
    "import numpy as n"
   ]
  },
  {
   "cell_type": "code",
   "execution_count": 28,
   "metadata": {},
   "outputs": [],
   "source": [
    "import warnings\n",
    "warnings.filterwarnings('ignore')"
   ]
  },
  {
   "cell_type": "code",
   "execution_count": 29,
   "metadata": {},
   "outputs": [],
   "source": [
    "\n",
    "df = p.read_csv(\"train.csv\")"
   ]
  },
  {
   "cell_type": "code",
   "execution_count": 30,
   "metadata": {},
   "outputs": [],
   "source": [
    "df['places'] = df.AREA.map({'Karapakkam':'Karapakkam', 'Anna Nagar':'Anna_Nagar', 'Adyar':'Adyar', 'Velachery':'Velachery',\n",
    "'Chrompet':'Chrompet', 'KK Nagar':'KK_Nagar', 'TNagar':'T_Nagar', 'T Nagar':'T_Nagar', 'Chrompt':'Chrompet',\n",
    "'Chrmpet':'Chrompet', 'Karapakam':'Karapakkam','Ana Nagar':'Anna_Nagar', 'Chormpet':'Chrompet', 'Adyr':'Adyar', 'Velchery':'Velachery','Ann Nagar':'Anna_Nagar',\n",
    "'KKNagar':'KK_Nagar'})"
   ]
  },
  {
   "cell_type": "code",
   "execution_count": 31,
   "metadata": {},
   "outputs": [],
   "source": [
    "del df['AREA']"
   ]
  },
  {
   "cell_type": "code",
   "execution_count": 32,
   "metadata": {},
   "outputs": [],
   "source": [
    " df['class'] = df.QS_OVERALL.map({4.33 :1, 3.765:1, 3.09 :1, 4.01 :1, 3.29 :1, 3.32 :1, 2.67 :0, 3.26 :1, 3.55 :1,\n",
    "       3.16 :1, 3.83 :1, 2.89 :0, 2.26 :0, 3.19 :1, 3.66 :1, 3.57 :1, 4.3  :1, 3.35 :1,\n",
    "       4.76 :1, 3.39 :1, 3.43 :1, 3.73 :1, 3.59 :1, 3.74 :1, 2.29 :0, 3.17 :1, 4.18 :1,\n",
    "       2.755:0, 2.11 :0, 2.605:0, 4.58 :1, 4.2  :1, 3.27 :1, 4.19 :1, 2.98 :0, 3.12 :1,\n",
    "       3.08 :1, 3.85 :1, 3.42 :1, 3.2  :1, 4.   :1, 3.34 :1, 2.825:0, 3.46 :1, 4.07 :1,\n",
    "       3.68 :1, 2.95 :0, 3.505:1, 2.97 :0, 3.63 :1, 3.76 :1, 3.77 :1, 2.78 :0, 3.985:1,\n",
    "       3.04 :1, 2.88 :0, 4.21 :1, 2.42 :0, 3.8  :1, 2.54 :0, 3.84 :1, 2.395:0, 3.14 :1,\n",
    "       2.49 :0, 3.175:1, 2.84 :0, 4.17 :1, 3.13 :1, 3.98 :1, 3.36 :1, 3.735:1, 2.62 :0,\n",
    "       4.61 :1, 2.6  :0, 4.09 :1, 3.18 :1, 3.425:1, 3.71 :1, 3.21 :1, 3.61 :1, 2.9  :0,\n",
    "       3.94 :1, 4.145:1, 4.26 :1, 4.16 :1, 3.5  :1, 3.22 :1, 3.99 :1, 4.12 :1, 2.475:0,\n",
    "       2.28 :0, 2.725:0, 4.03 :1, 3.07 :1, 2.81 :0, 3.45 :1, 3.9  :1, 3.87 :1, 3.1  :1,\n",
    "       2.93 :0, 3.05 :1, 3.54 :1, 2.63 :0, 3.11 :1, 3.89 :1, 3.33 :1, 3.96 :1, 3.56 :1,\n",
    "       4.39 :1, 3.58 :1, 3.47 :1, 3.88 :1, 4.04 :1, 3.6  :1, 4.53 :1, 3.72 :1, 2.96 :0,\n",
    "       3.4  :1, 3.51 :1, 4.215:1, 3.055:1, 3.06 :1, 3.53 :1, 3.435:1, 3.41 :1, 3.86 :1,\n",
    "       3.62 :1, 4.5  :1, 4.42 :1, 4.14 :1, 3.01 :1, 4.24 :1, 2.53 :0, 3.535:1, 2.665:0,\n",
    "       3.49 :1, 3.52 :1, 3.25 :1, 4.465:1, 4.66 :1, 3.7  :0, 2.495:0, 4.13 :1, 4.37 :1,\n",
    "       2.66 :0, 2.3  :0, 2.85 :0, 3.31 :1, 3.03 :1, 3.97 :1, 2.75 :0, 3.355:1, 3.75 :1,\n",
    "       2.775:0, 4.68 :1, 3.15 :1, 3.91 :1, 2.94 :0, 3.24 :1, 4.475:1, 3.67 :1, 3.38 :1,\n",
    "       4.38 :1, 4.59 :1, 3.295:1, 3.82 :1, 4.64 :1, 4.1  :1, 2.55 :0, 3.37 :1, 3.48 :1,\n",
    "       2.73 :0, 3.945:1, 3.285:1, 3.93 :1, 4.27 :1, 4.28 :1, 2.34 :0, 3.815:1, 2.79 :0,\n",
    "       4.035:1, 3.44 :1, 4.325:1, 3.95 :1, 2.785:0, 3.02 :1, 3.64 :1, 4.22 :1, 2.82 :0,\n",
    "       3.755:1, 3.78 :1, 3.81 :1, 3.92 :1, 4.375:1, 3.3  :1, 3.035:1, 3.575:1, 2.83 :0,\n",
    "       2.92 :0, 4.08 :1, 4.43 :1, 2.58 :0, 3.28 :1, 3.705:1, 3.935:1, 3.23 :1, 4.06 :1,\n",
    "       4.46 :1, 4.6  :1, 2.8  :0, 2.61 :0, 2.69 :0, 2.35 :0, 2.87 :0, 3.79 :1, 3.485:1,\n",
    "       2.91 :0, 2.99 :0, 3.825:1, 4.445:1, 2.985:0, 2.37 :0, 3.745:1, 2.995:0, 3.65 :1,\n",
    "       2.33 :0, 2.895:0, 3.69 :1, 2.52 :0, 2.51 :0, 4.02 :1, 4.54 :1, 3.255:1, 2.595:0,\n",
    "       3.615:1, 4.34 :1, 4.05 :1, 4.35 :1, 4.41 :1, 2.71 :0, 3.475:1, 4.015:1, 4.31 :1,\n",
    "       2.955:0, 2.72 :0, 4.48 :1, 3.605:1, 3.415:1, 4.32 :1, 2.965:0, 3.655:1, 4.7  :1,\n",
    "       2.57 :0, 4.15 :1, 3.885:1, 2.7  :0, 2.36 :0, 2.68 :0, 2.74 :0, 3.315:1, 4.005:1,\n",
    "       2.65 :0, 4.71 :1, 4.25 :1, 3.   :1, 3.585:1, 3.075:1, 3.105:1, 2.255:0, 3.185:1,\n",
    "       4.44 :1, 2.47 :0, 4.47 :1, 3.135:1, 4.9  :1, 4.52 :1, 4.57 :1, 3.595:1, 3.495:1,\n",
    "       4.56 :1, 2.4  :0, 4.11 :1, 3.165:1, 3.395:1, 4.29 :1, 3.275:1, 2.39 :0, 3.875:1,\n",
    "       3.555:1, 3.855:1, 2.44 :0, 2.64 :0, 3.095:1, 3.915:1, 2.5  :0, 2.345:0, 2.615:0,\n",
    "       2.76 :0, 4.125:1, 3.025:1, 3.205:1, 3.465:1, 3.895:1, 2.48 :0, 4.49 :1, 2.77 :0,\n",
    "       2.24 :0, 2.86 :0, 3.235:1, 2.46 :0, 2.59 :0, 3.445:1, 2.45 :0, 2.25 :0, 4.435:1,\n",
    "       3.715:1, 2.735:0, 4.4  :1, 4.63 :1, 3.835:1, 3.305:1, 2.375:0, 4.69 :1, 4.155:1,\n",
    "       3.455:1, 4.23 :1, 2.655:0, 3.685:1, 3.625:1, 4.025:1, 2.885:0, 4.36 :1, 2.945:0,\n",
    "       2.855:0, 4.115:1, 2.09 :0, 3.795:1, 3.045:1, 3.645:1, 2.975:0, 3.775:1, 2.21 :0,\n",
    "       4.85 :1, 2.795:0, 4.135:1, 4.78 :1, 2.635:0, 4.095:1, 2.625:0, 3.725:1, 2.835:0,\n",
    "       4.79 :1, 3.115:1, 4.87 :1, 2.245:0, 4.865:1, 4.495:1, 3.375:1, 2.43 :0, 4.395:1,\n",
    "       3.545:1, 4.585:1, 4.705:1, 4.83 :1, 4.195:1, 3.365:1, 2.06 :0, 3.995:1, 3.965:1,\n",
    "       3.635:1, 3.695:1, 4.405:1, 3.785:1, 3.515:1, 3.385:1, 4.515:1, 4.95 :1, 4.255:1,\n",
    "       4.72 :1, 4.65 :1, 4.045:1, 2.32 :0, 4.73 :1, 4.075:1, 3.145:1, 2.715:0, 3.565:1,\n",
    "       4.655:1, 2.525:0, 2.565:0, 2.31 :0, 4.165:1, 2.925:0, 2.41 :0, 4.085:1, 3.525:1,\n",
    "       3.015:1, 2.22 :0, 4.275:1, 3.905:1, 2.515:0, 3.955:1, 3.845:1, 4.345:1, 2.585:0,\n",
    "       4.75 :1, 3.335:1, 2.18 :0, 2.23 :0, 4.67 :1, 2.455:0, 4.455:1, 2.805:0, 3.345:1,\n",
    "       4.62 :1, 4.105:1, 3.405:1, 4.615:1, 4.185:1, 2.815:0, 4.45 :1, 4.97 :1, 4.415:1,\n",
    "       4.055:1, 2.645:0, 2.685:0, 4.315:1, 2.845:0, 4.82 :1, 4.225:1, 3.155:1, 4.205:1,\n",
    "       4.51 :1, 2.865:0, 2.765:0, 4.605:1, 3.065:1, 2.545:0, 3.265:1, 4.425:1, 2.56 :0,\n",
    "       2.745:0, 4.065:1, 4.295:1, 2.   :0, 4.55 :1, 3.975:1, 3.675:1, 2.915:0, 2.2  :0,\n",
    "       3.005:1, 2.385:0, 2.38 :0, 3.665:1, 2.535:0, 3.325:1, 3.925:1, 3.125:1, 4.335:1,\n",
    "       4.385:1, 2.27 :0, 4.93 :1, 3.805:1, 4.77 :1, 2.195:0, 4.175:1, 2.675:0, 4.695:1,\n",
    "       2.445:0, 4.265:1, 4.765:1, 2.335:0, 2.465:0, 4.81 :1, 2.905:0, 3.195:1, 3.245:1,\n",
    "       4.675:1, 4.94 :1})"
   ]
  },
  {
   "cell_type": "code",
   "execution_count": 33,
   "metadata": {},
   "outputs": [
    {
     "data": {
      "text/plain": [
       "Index(['PRT_ID', 'INT_SQFT', 'DATE_SALE', 'DIST_MAINROAD', 'N_BEDROOM',\n",
       "       'N_BATHROOM', 'N_ROOM', 'SALE_COND', 'PARK_FACIL', 'DATE_BUILD',\n",
       "       'BUILDTYPE', 'UTILITY_AVAIL', 'STREET', 'MZZONE', 'QS_ROOMS',\n",
       "       'QS_BATHROOM', 'QS_BEDROOM', 'QS_OVERALL', 'REG_FEE', 'COMMIS',\n",
       "       'SALES_PRICE', 'places', 'class'],\n",
       "      dtype='object')"
      ]
     },
     "execution_count": 33,
     "metadata": {},
     "output_type": "execute_result"
    }
   ],
   "source": [
    "df.columns"
   ]
  },
  {
   "cell_type": "code",
   "execution_count": 34,
   "metadata": {},
   "outputs": [],
   "source": [
    "df=df.dropna()"
   ]
  },
  {
   "cell_type": "code",
   "execution_count": 35,
   "metadata": {},
   "outputs": [
    {
     "data": {
      "text/plain": [
       "array([1., 0.])"
      ]
     },
     "execution_count": 35,
     "metadata": {},
     "output_type": "execute_result"
    }
   ],
   "source": [
    "df['class'].unique()"
   ]
  },
  {
   "cell_type": "code",
   "execution_count": 36,
   "metadata": {},
   "outputs": [
    {
     "data": {
      "text/plain": [
       "Index(['PRT_ID', 'INT_SQFT', 'DATE_SALE', 'DIST_MAINROAD', 'N_BEDROOM',\n",
       "       'N_BATHROOM', 'N_ROOM', 'SALE_COND', 'PARK_FACIL', 'DATE_BUILD',\n",
       "       'BUILDTYPE', 'UTILITY_AVAIL', 'STREET', 'MZZONE', 'QS_ROOMS',\n",
       "       'QS_BATHROOM', 'QS_BEDROOM', 'QS_OVERALL', 'REG_FEE', 'COMMIS',\n",
       "       'SALES_PRICE', 'places', 'class'],\n",
       "      dtype='object')"
      ]
     },
     "execution_count": 36,
     "metadata": {},
     "output_type": "execute_result"
    }
   ],
   "source": [
    "df.columns"
   ]
  },
  {
   "cell_type": "code",
   "execution_count": 37,
   "metadata": {},
   "outputs": [],
   "source": [
    "from sklearn.preprocessing import LabelEncoder\n",
    "var_mod = ['PRT_ID', 'INT_SQFT', 'DATE_SALE', 'DIST_MAINROAD', 'N_BEDROOM',\n",
    "       'N_BATHROOM', 'N_ROOM', 'SALE_COND', 'PARK_FACIL', 'DATE_BUILD',\n",
    "       'BUILDTYPE', 'UTILITY_AVAIL', 'STREET', 'MZZONE', 'QS_ROOMS',\n",
    "       'QS_BATHROOM', 'QS_BEDROOM', 'QS_OVERALL', 'REG_FEE', 'COMMIS',\n",
    "       'SALES_PRICE', 'places']\n",
    "le = LabelEncoder()\n",
    "for i in var_mod:\n",
    "    df[i] = le.fit_transform(df[i]).astype(int)"
   ]
  },
  {
   "cell_type": "code",
   "execution_count": 38,
   "metadata": {},
   "outputs": [],
   "source": [
    "\n",
    "from sklearn.metrics import confusion_matrix, classification_report, matthews_corrcoef, cohen_kappa_score, accuracy_score, average_precision_score, roc_auc_score"
   ]
  },
  {
   "cell_type": "code",
   "execution_count": 39,
   "metadata": {},
   "outputs": [],
   "source": [
    "X = df.drop(labels='class', axis=1)\n",
    "\n",
    "y = df.loc[:,'class']    "
   ]
  },
  {
   "cell_type": "code",
   "execution_count": 40,
   "metadata": {},
   "outputs": [],
   "source": [
    "from sklearn.model_selection import train_test_split\n",
    "X_train, X_test, y_train, y_test = train_test_split(X, y, test_size=0.3, random_state=1, stratify=y)"
   ]
  },
  {
   "cell_type": "markdown",
   "metadata": {},
   "source": [
    "Extra Trees Classifier:"
   ]
  },
  {
   "cell_type": "code",
   "execution_count": 41,
   "metadata": {},
   "outputs": [
    {
     "name": "stdout",
     "output_type": "stream",
     "text": [
      "\n",
      "Classification report of Extra Trees Classifier Results:\n",
      "\n",
      "              precision    recall  f1-score   support\n",
      "\n",
      "         0.0       0.90      0.89      0.90       392\n",
      "         1.0       0.98      0.98      0.98      1725\n",
      "\n",
      "    accuracy                           0.96      2117\n",
      "   macro avg       0.94      0.93      0.94      2117\n",
      "weighted avg       0.96      0.96      0.96      2117\n",
      "\n",
      "Accuracy result of Extra Trees Classifier is: 96.1738308927728\n",
      "\n",
      "Confusion Matrix result of Extra Trees Classifier is:\n",
      " [[ 349   43]\n",
      " [  38 1687]]\n",
      "\n",
      "Sensitivity :  0.8903061224489796\n",
      "\n",
      "Specificity :  0.9779710144927536\n",
      "\n"
     ]
    }
   ],
   "source": [
    "from sklearn.ensemble import ExtraTreesClassifier\n",
    "et = ExtraTreesClassifier()\n",
    "\n",
    "et.fit(X_train,y_train)\n",
    "\n",
    "predictET = et.predict(X_test)\n",
    "\n",
    "\n",
    "print(\"\")\n",
    "print('Classification report of Extra Trees Classifier Results:')\n",
    "print(\"\")\n",
    "\n",
    "print(classification_report(y_test,predictET))\n",
    "\n",
    "xet = (accuracy_score(y_test,predictET)*100)\n",
    "\n",
    "print('Accuracy result of Extra Trees Classifier is:', xet)\n",
    "print(\"\")\n",
    "cm1=confusion_matrix(y_test,predictET)\n",
    "print('Confusion Matrix result of Extra Trees Classifier is:\\n',cm1)\n",
    "print(\"\")\n",
    "sensitivity1 = cm1[0,0]/(cm1[0,0]+cm1[0,1])\n",
    "print('Sensitivity : ', sensitivity1 )\n",
    "print(\"\")\n",
    "specificity1 = cm1[1,1]/(cm1[1,0]+cm1[1,1])\n",
    "print('Specificity : ', specificity1)\n",
    "print(\"\")"
   ]
  },
  {
   "cell_type": "code",
   "execution_count": 42,
   "metadata": {},
   "outputs": [
    {
     "name": "stdout",
     "output_type": "stream",
     "text": [
      "True Positive : 1687\n",
      "True Negative : 349\n",
      "False Positive : 43\n",
      "False Negative : 38\n",
      "\n",
      "True Positive Rate : 0.9779710144927536\n",
      "True Negative Rate : 0.8903061224489796\n",
      "False Positive Rate : 0.1096938775510204\n",
      "False Negative Rate : 0.022028985507246378\n",
      "\n",
      "Positive Predictive Value : 0.9751445086705203\n",
      "Negative predictive value : 0.9018087855297158\n"
     ]
    }
   ],
   "source": [
    "TN = cm1[0][0]\n",
    "FN = cm1[1][0]\n",
    "TP = cm1[1][1]\n",
    "FP = cm1[0][1]\n",
    "print(\"True Positive :\",TP)\n",
    "print(\"True Negative :\",TN)\n",
    "print(\"False Positive :\",FP)\n",
    "print(\"False Negative :\",FN)\n",
    "print(\"\")\n",
    "TPR = TP/(TP+FN)\n",
    "TNR = TN/(TN+FP)\n",
    "FPR = FP/(FP+TN)\n",
    "FNR = FN/(TP+FN)\n",
    "print(\"True Positive Rate :\",TPR)\n",
    "print(\"True Negative Rate :\",TNR)\n",
    "print(\"False Positive Rate :\",FPR)\n",
    "print(\"False Negative Rate :\",FNR)\n",
    "print(\"\")\n",
    "PPV = TP/(TP+FP)\n",
    "NPV = TN/(TN+FN)\n",
    "print(\"Positive Predictive Value :\",PPV)\n",
    "print(\"Negative predictive value :\",NPV)"
   ]
  },
  {
   "cell_type": "code",
   "execution_count": 43,
   "metadata": {},
   "outputs": [],
   "source": [
    "def plot_confusion_matrix(cm1, title='Confusion matrix-ET', cmap=plt.cm.Blues):\n",
    "    target_names=['Predict','Actual']\n",
    "    plt.imshow(cm1, interpolation='nearest', cmap=cmap)\n",
    "    plt.title(title)\n",
    "    plt.colorbar()\n",
    "    tick_marks = n.arange(len(target_names))\n",
    "    plt.xticks(tick_marks, target_names, rotation=45)\n",
    "    plt.yticks(tick_marks, target_names)\n",
    "    plt.tight_layout()\n",
    "    plt.ylabel('True label')\n",
    "    plt.xlabel('Predicted label')"
   ]
  },
  {
   "cell_type": "code",
   "execution_count": 44,
   "metadata": {},
   "outputs": [
    {
     "name": "stdout",
     "output_type": "stream",
     "text": [
      "Confusion matrix-ET:\n",
      "[[ 349   43]\n",
      " [  38 1687]]\n"
     ]
    },
    {
     "data": {
      "image/png": "[encoded data removed]",
      "text/plain": [
       "<Figure size 432x288 with 2 Axes>"
      ]
     },
     "metadata": {
      "needs_background": "light"
     },
     "output_type": "display_data"
    }
   ],
   "source": [
    "cm1=confusion_matrix(y_test, predictET)\n",
    "print('Confusion matrix-ET:')\n",
    "print(cm1)\n",
    "plot_confusion_matrix(cm1)"
   ]
  },
  {
   "cell_type": "code",
   "execution_count": 45,
   "metadata": {},
   "outputs": [],
   "source": [
    "from sklearn.metrics import roc_curve, auc\n",
    "def plot_roc_curve(y_test, predictET):\n",
    "    false_positive_rate, true_positive_rate, thresholds = roc_curve(y_test, predictET)\n",
    "    print (\"False Positive rate: \",false_positive_rate)\n",
    "    print (\"True Positive rate: \",true_positive_rate)\n",
    "    \n",
    "    roc_auc = auc(false_positive_rate, true_positive_rate)\n",
    "\n",
    "    plt.title('Receiver Operating Characteristic-DT')\n",
    "    plt.plot(false_positive_rate, true_positive_rate, 'b',\n",
    "    label='AUC = %0.2f'% roc_auc)\n",
    "    plt.legend(loc='lower right')\n",
    "    plt.plot([0,1],[0,1],'r--')\n",
    "    plt.xlim([-0.1,1.2])\n",
    "    plt.ylim([-0.1,1.2])\n",
    "    plt.ylabel('True Positive Rate')\n",
    "    plt.xlabel('False Positive Rate')\n",
    "    plt.show()"
   ]
  },
  {
   "cell_type": "code",
   "execution_count": 46,
   "metadata": {},
   "outputs": [
    {
     "name": "stdout",
     "output_type": "stream",
     "text": [
      "False Positive rate:  [0.         0.10969388 1.        ]\n",
      "True Positive rate:  [0.         0.97797101 1.        ]\n"
     ]
    },
    {
     "data": {
      "image/png": "[encoded data removed]",
      "text/plain": [
       "<Figure size 432x288 with 1 Axes>"
      ]
     },
     "metadata": {
      "needs_background": "light"
     },
     "output_type": "display_data"
    }
   ],
   "source": [
    "plot_roc_curve(y_test, predictET)"
   ]
  },
  {
   "cell_type": "markdown",
   "metadata": {},
   "source": [
    "SGD Classifier:"
   ]
  },
  {
   "cell_type": "code",
   "execution_count": 47,
   "metadata": {},
   "outputs": [
    {
     "name": "stdout",
     "output_type": "stream",
     "text": [
      "\n",
      "Classification report of SGD Classifier:\n",
      "\n",
      "              precision    recall  f1-score   support\n",
      "\n",
      "         0.0       0.90      0.64      0.75       392\n",
      "         1.0       0.92      0.98      0.95      1725\n",
      "\n",
      "    accuracy                           0.92      2117\n",
      "   macro avg       0.91      0.81      0.85      2117\n",
      "weighted avg       0.92      0.92      0.92      2117\n",
      "\n",
      "Accuracy result of SGD Classifier is: 92.0642418516769\n",
      "\n",
      "Confusion Matrix result of SGD Classifier is:\n",
      " [[ 252  140]\n",
      " [  28 1697]]\n",
      "\n",
      "Sensitivity :  0.6428571428571429\n",
      "\n",
      "Specificity :  0.983768115942029\n",
      "\n"
     ]
    }
   ],
   "source": [
    "from sklearn.linear_model import SGDClassifier\n",
    "sgd = SGDClassifier()\n",
    "sgd.fit(X_train,y_train)\n",
    "predictsgd = sgd.predict(X_test)\n",
    "\n",
    "\n",
    "print(\"\")\n",
    "print('Classification report of SGD Classifier:')\n",
    "print(\"\")\n",
    "\n",
    "print(classification_report(y_test,predictsgd))\n",
    "xsgd = (accuracy_score(y_test,predictsgd)*100)\n",
    "\n",
    "print('Accuracy result of SGD Classifier is:', xsgd)\n",
    "print(\"\")\n",
    "cm2=confusion_matrix(y_test,predictsgd)\n",
    "print('Confusion Matrix result of SGD Classifier is:\\n',cm2)\n",
    "print(\"\")\n",
    "sensitivity1 = cm2[0,0]/(cm2[0,0]+cm2[0,1])\n",
    "print('Sensitivity : ', sensitivity1 )\n",
    "print(\"\")\n",
    "specificity1 = cm2[1,1]/(cm2[1,0]+cm2[1,1])\n",
    "print('Specificity : ', specificity1)\n",
    "print(\"\")\n"
   ]
  },
  {
   "cell_type": "code",
   "execution_count": 48,
   "metadata": {},
   "outputs": [
    {
     "name": "stdout",
     "output_type": "stream",
     "text": [
      "True Positive : 1697\n",
      "True Negative : 252\n",
      "False Positive : 140\n",
      "False Negative : 28\n",
      "\n",
      "True Positive Rate : 0.983768115942029\n",
      "True Negative Rate : 0.6428571428571429\n",
      "False Positive Rate : 0.35714285714285715\n",
      "False Negative Rate : 0.016231884057971015\n",
      "\n",
      "Positive Predictive Value : 0.9237887860642352\n",
      "Negative predictive value : 0.9\n"
     ]
    }
   ],
   "source": [
    "TN = cm2[0][0]\n",
    "FN = cm2[1][0]\n",
    "TP = cm2[1][1]\n",
    "FP = cm2[0][1]\n",
    "print(\"True Positive :\",TP)\n",
    "print(\"True Negative :\",TN)\n",
    "print(\"False Positive :\",FP)\n",
    "print(\"False Negative :\",FN)\n",
    "print(\"\")\n",
    "TPR = TP/(TP+FN)\n",
    "TNR = TN/(TN+FP)\n",
    "FPR = FP/(FP+TN)\n",
    "FNR = FN/(TP+FN)\n",
    "print(\"True Positive Rate :\",TPR)\n",
    "print(\"True Negative Rate :\",TNR)\n",
    "print(\"False Positive Rate :\",FPR)\n",
    "print(\"False Negative Rate :\",FNR)\n",
    "print(\"\")\n",
    "PPV = TP/(TP+FP)\n",
    "NPV = TN/(TN+FN)\n",
    "print(\"Positive Predictive Value :\",PPV)\n",
    "print(\"Negative predictive value :\",NPV)"
   ]
  },
  {
   "cell_type": "code",
   "execution_count": 49,
   "metadata": {},
   "outputs": [],
   "source": [
    "def plot_confusion_matrix(cm2, title='Confusion matrix-SGD', cmap=plt.cm.Blues):\n",
    "    target_names=['Predict','Actual']\n",
    "    plt.imshow(cm2, interpolation='nearest', cmap=cmap)\n",
    "    plt.title(title)\n",
    "    plt.colorbar()\n",
    "    tick_marks = n.arange(len(target_names))\n",
    "    plt.xticks(tick_marks, target_names, rotation=45)\n",
    "    plt.yticks(tick_marks, target_names)\n",
    "    plt.tight_layout()\n",
    "    plt.ylabel('True label')\n",
    "    plt.xlabel('Predicted label')"
   ]
  },
  {
   "cell_type": "code",
   "execution_count": 50,
   "metadata": {},
   "outputs": [
    {
     "name": "stdout",
     "output_type": "stream",
     "text": [
      "Confusion matrix-SGD:\n",
      "[[ 252  140]\n",
      " [  28 1697]]\n"
     ]
    },
    {
     "data": {
      "image/png": "[encoded data removed]",
      "text/plain": [
       "<Figure size 432x288 with 2 Axes>"
      ]
     },
     "metadata": {
      "needs_background": "light"
     },
     "output_type": "display_data"
    }
   ],
   "source": [
    "cm2=confusion_matrix(y_test, predictsgd)\n",
    "print('Confusion matrix-SGD:')\n",
    "print(cm2)\n",
    "plot_confusion_matrix(cm2)"
   ]
  },
  {
   "cell_type": "code",
   "execution_count": 51,
   "metadata": {},
   "outputs": [],
   "source": [
    "from sklearn.metrics import roc_curve, auc\n",
    "def plot_roc_curve(y_test, predictsgd):\n",
    "    false_positive_rate, true_positive_rate, thresholds = roc_curve(y_test, predictsgd)\n",
    "    print (\"False Positive rate: \",false_positive_rate)\n",
    "    print (\"True Positive rate: \",true_positive_rate)\n",
    "    \n",
    "    roc_auc = auc(false_positive_rate, true_positive_rate)\n",
    "\n",
    "    plt.title('Receiver Operating Characteristic-SGD')\n",
    "    plt.plot(false_positive_rate, true_positive_rate, 'b',\n",
    "    label='AUC = %0.2f'% roc_auc)\n",
    "    plt.legend(loc='lower right')\n",
    "    plt.plot([0,1],[0,1],'r--')\n",
    "    plt.xlim([-0.1,1.2])\n",
    "    plt.ylim([-0.1,1.2])\n",
    "    plt.ylabel('True Positive Rate')\n",
    "    plt.xlabel('False Positive Rate')\n",
    "    plt.show()"
   ]
  },
  {
   "cell_type": "code",
   "execution_count": 52,
   "metadata": {},
   "outputs": [
    {
     "name": "stdout",
     "output_type": "stream",
     "text": [
      "False Positive rate:  [0.         0.35714286 1.        ]\n",
      "True Positive rate:  [0.         0.98376812 1.        ]\n"
     ]
    },
    {
     "data": {
      "image/png": "[encoded data removed]",
      "text/plain": [
       "<Figure size 432x288 with 1 Axes>"
      ]
     },
     "metadata": {
      "needs_background": "light"
     },
     "output_type": "display_data"
    }
   ],
   "source": [
    "plot_roc_curve(y_test, predictsgd)"
   ]
  },
  {
   "cell_type": "code",
   "execution_count": null,
   "metadata": {},
   "outputs": [],
   "source": []
  },
  {
   "cell_type": "code",
   "execution_count": null,
   "metadata": {},
   "outputs": [],
   "source": []
  },
  {
   "cell_type": "code",
   "execution_count": null,
   "metadata": {},
   "outputs": [],
   "source": []
  }
 ],
 "metadata": {
  "kernelspec": {
   "display_name": "Python 3",
   "language": "python",
   "name": "python3"
  },
  "language_info": {
   "codemirror_mode": {
    "name": "ipython",
    "version": 3
   },
   "file_extension": ".py",
   "mimetype": "text/x-python",
   "name": "python",
   "nbconvert_exporter": "python",
   "pygments_lexer": "ipython3",
   "version": "3.7.3"
  }
 },
 "nbformat": 4,
 "nbformat_minor": 2
}
